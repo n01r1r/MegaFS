{
  "cells": [
    {
      "cell_type": "markdown",
      "id": "24ac0e40",
      "metadata": {},
      "source": [
        "# Configuration & Workflow\n",
        "\n",
        "- Configure base paths in the cells below (dataset root, weights path).\n",
        "- First, generate `data_map.json` by running the script in the dataset root:\n",
        "\n",
        "```bash\n",
        "python create_datamap.py\n",
        "```\n",
        "\n",
        "- Then run the cells to load the mapping and perform inference. Do not create the mapping inside this notebook.\n"
      ]
    },
    {
      "cell_type": "code",
      "execution_count": 1,
      "id": "7d4755e1",
      "metadata": {
        "colab": {
          "base_uri": "https://localhost:8080/"
        },
        "id": "7d4755e1",
        "outputId": "dd30a2e6-9cd4-46f4-bf78-641768dd583a",
        "vscode": {
          "languageId": "plaintext"
        }
      },
      "outputs": [
        {
          "name": "stdout",
          "output_type": "stream",
          "text": [
            "Import complete\n"
          ]
        }
      ],
      "source": [
        "import os\n",
        "import zipfile\n",
        "from glob import glob\n",
        "from tqdm.notebook import tqdm\n",
        "import torch\n",
        "import cv2\n",
        "import numpy as np\n",
        "import argparse\n",
        "from google.colab import drive\n",
        "from IPython.display import display, Image\n",
        "import matplotlib.pyplot as plt\n",
        "from google.colab import files\n",
        "\n",
        "print(\"Import complete\")"
      ]
    },
    {
      "cell_type": "code",
      "execution_count": 2,
      "id": "3d63405a",
      "metadata": {
        "colab": {
          "base_uri": "https://localhost:8080/"
        },
        "id": "3d63405a",
        "outputId": "3da10757-b735-4b84-d2fb-ddb6c41be3de",
        "vscode": {
          "languageId": "plaintext"
        }
      },
      "outputs": [
        {
          "name": "stdout",
          "output_type": "stream",
          "text": [
            "Mounted at /content/drive\n",
            "Google Drive mount complete\n"
          ]
        }
      ],
      "source": [
        "try:\n",
        "    drive.mount('/content/drive')\n",
        "    print(\"Google Drive mount complete\")\n",
        "except Exception as e:\n",
        "    print(f\"Google Drive mount error: {e}\")"
      ]
    },
    {
      "cell_type": "code",
      "execution_count": 3,
      "id": "91f617f5",
      "metadata": {
        "colab": {
          "base_uri": "https://localhost:8080/"
        },
        "id": "91f617f5",
        "outputId": "a29fdb97-d226-45c5-d2cb-0f6b9b7b7709",
        "vscode": {
          "languageId": "plaintext"
        }
      },
      "outputs": [
        {
          "name": "stdout",
          "output_type": "stream",
          "text": [
            "Import fail, check the ./models directory in current session: No module named 'models'\n"
          ]
        }
      ],
      "source": [
        "import sys\n",
        "sys.path.append('/content/models')\n",
        "\n",
        "try:\n",
        "    from models.megafs import MegaFS\n",
        "    print(\"MegaFS module import complete\")\n",
        "except ImportError as e:\n",
        "    print(f\"Import fail, check the ./models directory in current session: {e}\")\n"
      ]
    },
    {
      "cell_type": "code",
      "execution_count": 8,
      "id": "7820a47d",
      "metadata": {
        "colab": {
          "base_uri": "https://localhost:8080/"
        },
        "id": "7820a47d",
        "outputId": "5db7314c-7fcb-42cb-818b-4c04d7d2d62c",
        "vscode": {
          "languageId": "plaintext"
        }
      },
      "outputs": [
        {
          "name": "stdout",
          "output_type": "stream",
          "text": [
            "\n",
            " Preparing dataset...\n"
          ]
        }
      ],
      "source": [
        "print(\"\\n Preparing dataset...\")\n",
        "dataset_zip_path = \"/content/drive/MyDrive/Datasets/celeba_mask_hq.zip\"\n",
        "base_dir = \"/content/\""
      ]
    },
    {
      "cell_type": "code",
      "execution_count": 15,
      "id": "59730313",
      "metadata": {
        "colab": {
          "base_uri": "https://localhost:8080/"
        },
        "id": "59730313",
        "outputId": "4f90c989-221c-4305-a630-f34db791306d",
        "vscode": {
          "languageId": "plaintext"
        }
      },
      "outputs": [
        {
          "name": "stdout",
          "output_type": "stream",
          "text": [
            "Unzipping '/content/drive/MyDrive/Datasets/celeba_mask_hq.zip'\n",
            "Unzipping complete.\n"
          ]
        }
      ],
      "source": [
        "if os.path.exists(dataset_zip_path):\n",
        "        print(f\"Unzipping '{dataset_zip_path}'\")\n",
        "        with zipfile.ZipFile(dataset_zip_path, 'r') as zip_ref:\n",
        "            zip_ref.extractall(base_dir)\n",
        "        print(\"Unzipping complete.\")\n",
        "else:\n",
        "        print(f\" '{dataset_zip_path}' Not Found\")"
      ]
    },
    {
      "cell_type": "code",
      "execution_count": null,
      "id": "b992c9e9",
      "metadata": {
        "id": "b992c9e9",
        "vscode": {
          "languageId": "plaintext"
        }
      },
      "outputs": [],
      "source": [
        "img_dir = os.path.join(base_dir, \"CelebAMask-HQ/CelebA-HQ-img/\")\n",
        "mask_base_dir = os.path.join(base_dir, \"CelebAMask-HQ/CelebAMask-HQ-mask-anno/\")\n",
        "data_map_path = os.path.join(base_dir, \"data_map.json\")\n",
        "data_map = {}\n",
        "valid_ids = []"
      ]
    },
    {
      "cell_type": "code",
      "execution_count": null,
      "id": "f03e01b8",
      "metadata": {
        "colab": {
          "base_uri": "https://localhost:8080/",
          "height": 470,
          "referenced_widgets": [
            "24847e4a575343728a47eb0b4e203cda",
            "e3ff854dfa624ccfb76c3fffc18f5b91",
            "c033720be7c0404ba5e8e9af9a91292c",
            "ae1d6b1dd2f2471a9a3599056f1f0d47",
            "a32b0c6ca9de4971b0e7acc192f87dd4",
            "61710b1c269f45e0a7f0394c8021b96c",
            "3ae59530d8de42d38ec7e17579c313bd",
            "65266b2088124f069163231b36c5fd6e",
            "38d2bdd8f9d04b4b8fef1a8752a950a3",
            "ba6c8ae9b7444160b504b30a19a87f5a",
            "c0668561b2624bd784dffaf63ed399ec"
          ]
        },
        "id": "f03e01b8",
        "outputId": "25ee23eb-206b-4d94-ff7f-54c80cb1709b",
        "vscode": {
          "languageId": "plaintext"
        }
      },
      "outputs": [
        {
          "name": "stdout",
          "output_type": "stream",
          "text": [
            "\n",
            " Mapping image-mask paths from CelebAMask-HQ...\n",
            "Searching for mask files paired to the img IDs...\n"
          ]
        },
        {
          "data": {
            "application/vnd.jupyter.widget-view+json": {
              "model_id": "24847e4a575343728a47eb0b4e203cda",
              "version_major": 2,
              "version_minor": 0
            },
            "text/plain": [
              "MAPPING:   0%|          | 0/30000 [00:00<?, ?it/s]"
            ]
          },
          "metadata": {},
          "output_type": "display_data"
        },
        {
          "ename": "KeyboardInterrupt",
          "evalue": "",
          "output_type": "error",
          "traceback": [
            "\u001b[0;31m---------------------------------------------------------------------------\u001b[0m",
            "\u001b[0;31mKeyboardInterrupt\u001b[0m                         Traceback (most recent call last)",
            "\u001b[0;32m/tmp/ipython-input-2016626564.py\u001b[0m in \u001b[0;36m<cell line: 0>\u001b[0;34m()\u001b[0m\n\u001b[1;32m      8\u001b[0m     \u001b[0;32mfor\u001b[0m \u001b[0mimg_id_str\u001b[0m\u001b[0;34m,\u001b[0m \u001b[0mimg_path\u001b[0m \u001b[0;32min\u001b[0m \u001b[0mtqdm\u001b[0m\u001b[0;34m(\u001b[0m\u001b[0mimage_map\u001b[0m\u001b[0;34m.\u001b[0m\u001b[0mitems\u001b[0m\u001b[0;34m(\u001b[0m\u001b[0;34m)\u001b[0m\u001b[0;34m,\u001b[0m \u001b[0mdesc\u001b[0m\u001b[0;34m=\u001b[0m\u001b[0;34m\"MAPPING\"\u001b[0m\u001b[0;34m)\u001b[0m\u001b[0;34m:\u001b[0m\u001b[0;34m\u001b[0m\u001b[0;34m\u001b[0m\u001b[0m\n\u001b[1;32m      9\u001b[0m         \u001b[0mmask_search_pattern\u001b[0m \u001b[0;34m=\u001b[0m \u001b[0mos\u001b[0m\u001b[0;34m.\u001b[0m\u001b[0mpath\u001b[0m\u001b[0;34m.\u001b[0m\u001b[0mjoin\u001b[0m\u001b[0;34m(\u001b[0m\u001b[0mmask_base_dir\u001b[0m\u001b[0;34m,\u001b[0m \u001b[0;34m'*'\u001b[0m\u001b[0;34m,\u001b[0m \u001b[0;34mf\"{img_id_str}_*.png\"\u001b[0m\u001b[0;34m)\u001b[0m\u001b[0;34m\u001b[0m\u001b[0;34m\u001b[0m\u001b[0m\n\u001b[0;32m---> 10\u001b[0;31m         \u001b[0mmask_paths\u001b[0m \u001b[0;34m=\u001b[0m \u001b[0mglob\u001b[0m\u001b[0;34m(\u001b[0m\u001b[0mmask_search_pattern\u001b[0m\u001b[0;34m)\u001b[0m\u001b[0;34m\u001b[0m\u001b[0;34m\u001b[0m\u001b[0m\n\u001b[0m\u001b[1;32m     11\u001b[0m         \u001b[0;32mif\u001b[0m \u001b[0mmask_paths\u001b[0m\u001b[0;34m:\u001b[0m\u001b[0;34m\u001b[0m\u001b[0;34m\u001b[0m\u001b[0m\n\u001b[1;32m     12\u001b[0m             \u001b[0mrelative_img_path\u001b[0m \u001b[0;34m=\u001b[0m \u001b[0mos\u001b[0m\u001b[0;34m.\u001b[0m\u001b[0mpath\u001b[0m\u001b[0;34m.\u001b[0m\u001b[0mrelpath\u001b[0m\u001b[0;34m(\u001b[0m\u001b[0mimg_path\u001b[0m\u001b[0;34m,\u001b[0m \u001b[0mbase_dir\u001b[0m\u001b[0;34m)\u001b[0m\u001b[0;34m\u001b[0m\u001b[0;34m\u001b[0m\u001b[0m\n",
            "\u001b[0;32m/usr/lib/python3.12/glob.py\u001b[0m in \u001b[0;36mglob\u001b[0;34m(pathname, root_dir, dir_fd, recursive, include_hidden)\u001b[0m\n\u001b[1;32m     26\u001b[0m     \u001b[0mzero\u001b[0m \u001b[0;32mor\u001b[0m \u001b[0mmore\u001b[0m \u001b[0mdirectories\u001b[0m \u001b[0;32mand\u001b[0m \u001b[0msubdirectories\u001b[0m\u001b[0;34m.\u001b[0m\u001b[0;34m\u001b[0m\u001b[0;34m\u001b[0m\u001b[0m\n\u001b[1;32m     27\u001b[0m     \"\"\"\n\u001b[0;32m---> 28\u001b[0;31m     return list(iglob(pathname, root_dir=root_dir, dir_fd=dir_fd, recursive=recursive,\n\u001b[0m\u001b[1;32m     29\u001b[0m                       include_hidden=include_hidden))\n\u001b[1;32m     30\u001b[0m \u001b[0;34m\u001b[0m\u001b[0m\n",
            "\u001b[0;32m/usr/lib/python3.12/glob.py\u001b[0m in \u001b[0;36m_iglob\u001b[0;34m(pathname, root_dir, dir_fd, recursive, dironly, include_hidden)\u001b[0m\n\u001b[1;32m     95\u001b[0m         \u001b[0mglob_in_dir\u001b[0m \u001b[0;34m=\u001b[0m \u001b[0m_glob0\u001b[0m\u001b[0;34m\u001b[0m\u001b[0;34m\u001b[0m\u001b[0m\n\u001b[1;32m     96\u001b[0m     \u001b[0;32mfor\u001b[0m \u001b[0mdirname\u001b[0m \u001b[0;32min\u001b[0m \u001b[0mdirs\u001b[0m\u001b[0;34m:\u001b[0m\u001b[0;34m\u001b[0m\u001b[0;34m\u001b[0m\u001b[0m\n\u001b[0;32m---> 97\u001b[0;31m         for name in glob_in_dir(_join(root_dir, dirname), basename, dir_fd, dironly,\n\u001b[0m\u001b[1;32m     98\u001b[0m                                include_hidden=include_hidden):\n\u001b[1;32m     99\u001b[0m             \u001b[0;32myield\u001b[0m \u001b[0mos\u001b[0m\u001b[0;34m.\u001b[0m\u001b[0mpath\u001b[0m\u001b[0;34m.\u001b[0m\u001b[0mjoin\u001b[0m\u001b[0;34m(\u001b[0m\u001b[0mdirname\u001b[0m\u001b[0;34m,\u001b[0m \u001b[0mname\u001b[0m\u001b[0;34m)\u001b[0m\u001b[0;34m\u001b[0m\u001b[0;34m\u001b[0m\u001b[0m\n",
            "\u001b[0;32m/usr/lib/python3.12/glob.py\u001b[0m in \u001b[0;36m_glob1\u001b[0;34m(dirname, pattern, dir_fd, dironly, include_hidden)\u001b[0m\n\u001b[1;32m    104\u001b[0m \u001b[0;34m\u001b[0m\u001b[0m\n\u001b[1;32m    105\u001b[0m \u001b[0;32mdef\u001b[0m \u001b[0m_glob1\u001b[0m\u001b[0;34m(\u001b[0m\u001b[0mdirname\u001b[0m\u001b[0;34m,\u001b[0m \u001b[0mpattern\u001b[0m\u001b[0;34m,\u001b[0m \u001b[0mdir_fd\u001b[0m\u001b[0;34m,\u001b[0m \u001b[0mdironly\u001b[0m\u001b[0;34m,\u001b[0m \u001b[0minclude_hidden\u001b[0m\u001b[0;34m=\u001b[0m\u001b[0;32mFalse\u001b[0m\u001b[0;34m)\u001b[0m\u001b[0;34m:\u001b[0m\u001b[0;34m\u001b[0m\u001b[0;34m\u001b[0m\u001b[0m\n\u001b[0;32m--> 106\u001b[0;31m     \u001b[0mnames\u001b[0m \u001b[0;34m=\u001b[0m \u001b[0m_listdir\u001b[0m\u001b[0;34m(\u001b[0m\u001b[0mdirname\u001b[0m\u001b[0;34m,\u001b[0m \u001b[0mdir_fd\u001b[0m\u001b[0;34m,\u001b[0m \u001b[0mdironly\u001b[0m\u001b[0;34m)\u001b[0m\u001b[0;34m\u001b[0m\u001b[0;34m\u001b[0m\u001b[0m\n\u001b[0m\u001b[1;32m    107\u001b[0m     \u001b[0;32mif\u001b[0m \u001b[0minclude_hidden\u001b[0m \u001b[0;32mor\u001b[0m \u001b[0;32mnot\u001b[0m \u001b[0m_ishidden\u001b[0m\u001b[0;34m(\u001b[0m\u001b[0mpattern\u001b[0m\u001b[0;34m)\u001b[0m\u001b[0;34m:\u001b[0m\u001b[0;34m\u001b[0m\u001b[0;34m\u001b[0m\u001b[0m\n\u001b[1;32m    108\u001b[0m         \u001b[0mnames\u001b[0m \u001b[0;34m=\u001b[0m \u001b[0;34m(\u001b[0m\u001b[0mx\u001b[0m \u001b[0;32mfor\u001b[0m \u001b[0mx\u001b[0m \u001b[0;32min\u001b[0m \u001b[0mnames\u001b[0m \u001b[0;32mif\u001b[0m \u001b[0minclude_hidden\u001b[0m \u001b[0;32mor\u001b[0m \u001b[0;32mnot\u001b[0m \u001b[0m_ishidden\u001b[0m\u001b[0;34m(\u001b[0m\u001b[0mx\u001b[0m\u001b[0;34m)\u001b[0m\u001b[0;34m)\u001b[0m\u001b[0;34m\u001b[0m\u001b[0;34m\u001b[0m\u001b[0m\n",
            "\u001b[0;32m/usr/lib/python3.12/glob.py\u001b[0m in \u001b[0;36m_listdir\u001b[0;34m(dirname, dir_fd, dironly)\u001b[0m\n\u001b[1;32m    176\u001b[0m \u001b[0;32mdef\u001b[0m \u001b[0m_listdir\u001b[0m\u001b[0;34m(\u001b[0m\u001b[0mdirname\u001b[0m\u001b[0;34m,\u001b[0m \u001b[0mdir_fd\u001b[0m\u001b[0;34m,\u001b[0m \u001b[0mdironly\u001b[0m\u001b[0;34m)\u001b[0m\u001b[0;34m:\u001b[0m\u001b[0;34m\u001b[0m\u001b[0;34m\u001b[0m\u001b[0m\n\u001b[1;32m    177\u001b[0m     \u001b[0;32mwith\u001b[0m \u001b[0mcontextlib\u001b[0m\u001b[0;34m.\u001b[0m\u001b[0mclosing\u001b[0m\u001b[0;34m(\u001b[0m\u001b[0m_iterdir\u001b[0m\u001b[0;34m(\u001b[0m\u001b[0mdirname\u001b[0m\u001b[0;34m,\u001b[0m \u001b[0mdir_fd\u001b[0m\u001b[0;34m,\u001b[0m \u001b[0mdironly\u001b[0m\u001b[0;34m)\u001b[0m\u001b[0;34m)\u001b[0m \u001b[0;32mas\u001b[0m \u001b[0mit\u001b[0m\u001b[0;34m:\u001b[0m\u001b[0;34m\u001b[0m\u001b[0;34m\u001b[0m\u001b[0m\n\u001b[0;32m--> 178\u001b[0;31m         \u001b[0;32mreturn\u001b[0m \u001b[0mlist\u001b[0m\u001b[0;34m(\u001b[0m\u001b[0mit\u001b[0m\u001b[0;34m)\u001b[0m\u001b[0;34m\u001b[0m\u001b[0;34m\u001b[0m\u001b[0m\n\u001b[0m\u001b[1;32m    179\u001b[0m \u001b[0;34m\u001b[0m\u001b[0m\n\u001b[1;32m    180\u001b[0m \u001b[0;31m# Recursively yields relative pathnames inside a literal directory.\u001b[0m\u001b[0;34m\u001b[0m\u001b[0;34m\u001b[0m\u001b[0m\n",
            "\u001b[0;32m/usr/lib/python3.12/glob.py\u001b[0m in \u001b[0;36m_iterdir\u001b[0;34m(dirname, dir_fd, dironly)\u001b[0m\n\u001b[1;32m    165\u001b[0m                                 \u001b[0;32myield\u001b[0m \u001b[0mfsencode\u001b[0m\u001b[0;34m(\u001b[0m\u001b[0mentry\u001b[0m\u001b[0;34m.\u001b[0m\u001b[0mname\u001b[0m\u001b[0;34m)\u001b[0m\u001b[0;34m\u001b[0m\u001b[0;34m\u001b[0m\u001b[0m\n\u001b[1;32m    166\u001b[0m                             \u001b[0;32melse\u001b[0m\u001b[0;34m:\u001b[0m\u001b[0;34m\u001b[0m\u001b[0;34m\u001b[0m\u001b[0m\n\u001b[0;32m--> 167\u001b[0;31m                                 \u001b[0;32myield\u001b[0m \u001b[0mentry\u001b[0m\u001b[0;34m.\u001b[0m\u001b[0mname\u001b[0m\u001b[0;34m\u001b[0m\u001b[0;34m\u001b[0m\u001b[0m\n\u001b[0m\u001b[1;32m    168\u001b[0m                     \u001b[0;32mexcept\u001b[0m \u001b[0mOSError\u001b[0m\u001b[0;34m:\u001b[0m\u001b[0;34m\u001b[0m\u001b[0;34m\u001b[0m\u001b[0m\n\u001b[1;32m    169\u001b[0m                         \u001b[0;32mpass\u001b[0m\u001b[0;34m\u001b[0m\u001b[0;34m\u001b[0m\u001b[0m\n",
            "\u001b[0;31mKeyboardInterrupt\u001b[0m: "
          ]
        }
      ],
      "source": [
        "import json\n",
        "\n",
        "print(\"\\nExpecting data_map.json created externally by create_datamap.py\")\n",
        "if not os.path.exists(data_map_path):\n",
        "    print(f\"Data map file '{data_map_path}' not found. Please run create_datamap.py in the dataset root first.\")\n",
        "else:\n",
        "    print(\"Found data_map.json; loading will happen in the next cell.\")"
      ]
    },
    {
      "cell_type": "code",
      "execution_count": null,
      "id": "024edec6",
      "metadata": {},
      "outputs": [],
      "source": [
        "import os\n",
        "import json\n",
        "\n",
        "print(\"\\nLoading data map...\")\n",
        "\n",
        "valid_ids = []\n",
        "\n",
        "if os.path.exists(data_map_path):\n",
        "    with open(data_map_path, 'r', encoding='utf-8') as f:\n",
        "        loaded_map_str_keys = json.load(f)\n",
        "        # Convert string keys to integers\n",
        "        data_map = {int(k): v for k, v in loaded_map_str_keys.items()}\n",
        "\n",
        "    for img_id, rec in data_map.items():\n",
        "        # Normalize image path to absolute\n",
        "        rel_img = rec.get(\"image_path\")\n",
        "        if isinstance(rel_img, str):\n",
        "            rec[\"image_path\"] = os.path.normpath(os.path.join(base_dir, rel_img))\n",
        "        else:\n",
        "            rec[\"image_path\"] = None\n",
        "\n",
        "        # Handle masks: repository stores 'mask_paths' (list). Choose the first available as 'mask_path'.\n",
        "        mask_list = rec.get(\"mask_paths\")\n",
        "        if isinstance(mask_list, list) and len(mask_list) > 0:\n",
        "            rec[\"mask_path\"] = os.path.normpath(os.path.join(base_dir, mask_list[0]))\n",
        "        else:\n",
        "            # Also support legacy single 'mask_path' string if present\n",
        "            legacy = rec.get(\"mask_path\")\n",
        "            if isinstance(legacy, str) and legacy:\n",
        "                rec[\"mask_path\"] = os.path.normpath(os.path.join(base_dir, legacy))\n",
        "            else:\n",
        "                rec[\"mask_path\"] = None\n",
        "\n",
        "    # Collect valid ids that have both image and a mask file path\n",
        "    valid_ids = sorted([k for k, v in data_map.items() if v.get(\"image_path\") and v.get(\"mask_path\")])\n",
        "    print(f\"Loaded {len(valid_ids)} valid items from '{data_map_path}'\")\n",
        "\n",
        "    IMG_ROOT = img_dir\n",
        "    MASK_ROOT = mask_base_dir\n",
        "\n",
        "    if valid_ids:\n",
        "        sample_id = valid_ids[0]\n",
        "        print(f\"   - Sample ID: {sample_id}\")\n",
        "        print(f\"     - Image path: {data_map[sample_id]['image_path']}\")\n",
        "        print(f\"     - Mask path: {data_map[sample_id]['mask_path']}\")\n",
        "else:\n",
        "    print(f\"Data map file '{data_map_path}' not found. Please create it first.\")\n"
      ]
    },
    {
      "cell_type": "code",
      "execution_count": null,
      "id": "c0104a80",
      "metadata": {},
      "outputs": [],
      "source": [
        "import random\n",
        "import os\n",
        "import json\n",
        "\n",
        "print(\"\\nVerifying data map entries on disk...\")\n",
        "\n",
        "if data_map:\n",
        "    check_count = min(100, len(data_map))\n",
        "    sample_ids = random.sample(list(data_map.keys()), check_count)\n",
        "\n",
        "    missing_sample = []\n",
        "    for img_id in sample_ids:\n",
        "        rec = data_map[img_id]\n",
        "        if not (os.path.exists(rec[\"image_path\"]) and os.path.exists(rec[\"mask_path\"])):\n",
        "            missing_sample.append(img_id)\n",
        "\n",
        "    if missing_sample:\n",
        "        print(f\"Missing {len(missing_sample)} of {check_count} sampled entries; pruning all missing entries...\")\n",
        "        to_delete = []\n",
        "        for img_id, rec in list(data_map.items()):\n",
        "            if not (os.path.exists(rec[\"image_path\"]) and os.path.exists(rec[\"mask_path\"])):\n",
        "                to_delete.append(img_id)\n",
        "        for img_id in to_delete:\n",
        "            del data_map[img_id]\n",
        "\n",
        "        valid_ids = sorted(data_map.keys())\n",
        "        try:\n",
        "            with open(data_map_path, 'w') as f:\n",
        "                json.dump(data_map, f, indent=4)\n",
        "            print(f\"Pruned {len(to_delete)} entries; updated data map saved to '{data_map_path}'.\")\n",
        "            print(f\"Remaining entries: {len(valid_ids)}\")\n",
        "        except Exception as e:\n",
        "            print(f\"Error while saving pruned data map: {e}\")\n",
        "    else:\n",
        "        print(f\"No missing files found in the sampled {check_count} entries.\")\n",
        "else:\n",
        "    print(\"Data map is empty; skipping verification.\")\n"
      ]
    },
    {
      "cell_type": "code",
      "execution_count": null,
      "id": "hSVFtBIw9sKZ",
      "metadata": {
        "id": "hSVFtBIw9sKZ"
      },
      "outputs": [],
      "source": []
    },
    {
      "cell_type": "code",
      "execution_count": null,
      "id": "9d9e36f5",
      "metadata": {
        "id": "9d9e36f5",
        "vscode": {
          "languageId": "plaintext"
        }
      },
      "outputs": [],
      "source": [
        "IMG_ROOT = img_dir\n",
        "MASK_ROOT = mask_base_dir"
      ]
    },
    {
      "cell_type": "code",
      "execution_count": null,
      "id": "Rfwz8rrH8cLw",
      "metadata": {
        "id": "Rfwz8rrH8cLw"
      },
      "outputs": [],
      "source": [
        "print(\"\\n\\n---\\n\\n\")\n",
        "print(\"📂 체크포인트 경로를 설정합니다...\")\n",
        "\n",
        "# Google Drive 내의 체크포인트 폴더 경로\n",
        "checkpoint_dir = '/content/drive/MyDrive/Datasets/weights'"
      ]
    },
    {
      "cell_type": "code",
      "execution_count": null,
      "id": "157aa6e7",
      "metadata": {
        "id": "157aa6e7",
        "vscode": {
          "languageId": "plaintext"
        }
      },
      "outputs": [],
      "source": [
        "if os.path.isdir(checkpoint_dir):\n",
        "    print(f\"체크포인트 디렉토리 확인: '{checkpoint_dir}'\")\n",
        "    # 필요한 파일들이 있는지 간단히 확인\n",
        "    required_files = [\"ftm_final.pth\", \"stylegan2-ffhq-config-f.pth\", \"injection_final.pth\", \"lcr_final.pth\"]\n",
        "    missing_files = [f for f in required_files if not os.path.exists(os.path.join(checkpoint_dir, f))]\n",
        "    if missing_files:\n",
        "        print(f\"[WARNING] following files do not exist: {missing_files}\")\n",
        "    else:\n",
        "        print(\"ALL CHECKPOINTS CONFIRMED\")\n",
        "else:\n",
        "    print(f\"Following filepath not found: '{checkpoint_dir}'.\")"
      ]
    },
    {
      "cell_type": "code",
      "execution_count": null,
      "id": "54f6b9fe",
      "metadata": {
        "id": "54f6b9fe",
        "vscode": {
          "languageId": "plaintext"
        }
      },
      "outputs": [],
      "source": [
        "print(\"\\n\\n---\\n\\n\")\n",
        "print(\"Initializing models...\")"
      ]
    },
    {
      "cell_type": "code",
      "execution_count": null,
      "id": "d13e6486",
      "metadata": {
        "id": "d13e6486",
        "vscode": {
          "languageId": "plaintext"
        }
      },
      "outputs": [],
      "source": [
        "SWAP_TYPE = \"ftm\" # ftm, injection, lcr"
      ]
    },
    {
      "cell_type": "code",
      "execution_count": null,
      "id": "413f753b",
      "metadata": {
        "id": "413f753b",
        "vscode": {
          "languageId": "plaintext"
        }
      },
      "outputs": [],
      "source": [
        "handler = None\n",
        "if 'MegaFS' in locals():\n",
        "    try:\n",
        "        handler = MegaFS(\n",
        "            swap_type=SWAP_TYPE,\n",
        "            img_root=IMG_ROOT,\n",
        "            mask_root=MASK_ROOT,\n",
        "            data_map=data_map, # 개선된 데이터 맵 전달\n",
        "            checkpoint_dir=checkpoint_dir # 체크포인트 경로 전달\n",
        "        )\n",
        "        print(f\"'{SWAP_TYPE}'-MegaFS model handler created.\")\n",
        "    except Exception as e:\n",
        "        print(f\"Error while generating handler: {e}\")\n",
        "        import traceback\n",
        "        traceback.print_exc()\n",
        "else:\n",
        "    print(\"MegaFS class failed to import. Check previous cells\")"
      ]
    },
    {
      "cell_type": "markdown",
      "id": "178f9584",
      "metadata": {
        "id": "178f9584"
      },
      "source": [
        "## Helper functions for inference"
      ]
    },
    {
      "cell_type": "code",
      "execution_count": null,
      "id": "81c8b377",
      "metadata": {
        "id": "81c8b377",
        "vscode": {
          "languageId": "plaintext"
        }
      },
      "outputs": [],
      "source": [
        "def run_swap(handler_instance, src_id, tgt_id, refine=True):\n",
        "    \"\"\"단일 이미지 쌍에 대해 스왑을 실행하고 결과를 표시합니다.\"\"\"\n",
        "    if not handler_instance:\n",
        "        print(\"❌ 핸들러가 초기화되지 않았습니다.\")\n",
        "        return\n",
        "\n",
        "    print(f\"\\n🔄 Source ID: {src_id}, Target ID: {tgt_id} 얼굴 교체를 시작합니다...\")\n",
        "    try:\n",
        "        result_image = handler_instance.run(src_id, tgt_id, refine)\n",
        "\n",
        "        # 결과 저장 및 표시\n",
        "        result_filename = f\"swap_result_{src_id}_to_{tgt_id}.jpg\"\n",
        "        cv2.imwrite(f\"/content/{result_filename}\", result_image)\n",
        "        print(f\"💾 결과가 '{result_filename}' 파일로 저장되었습니다.\")\n",
        "\n",
        "        # 이미지 표시\n",
        "        img_disp = Image(f'/content/{result_filename}')\n",
        "        display(img_disp)\n",
        "\n",
        "    except Exception as e:\n",
        "        print(f\"❌ ID {src_id} 또는 {tgt_id} 처리 중 오류 발생: {e}\")\n",
        "        print(\"   - 데이터셋에 해당 ID가 존재하는지 확인해주세요.\")"
      ]
    },
    {
      "cell_type": "code",
      "execution_count": null,
      "id": "705e1c94",
      "metadata": {
        "id": "705e1c94",
        "vscode": {
          "languageId": "plaintext"
        }
      },
      "outputs": [],
      "source": [
        "def run_batch_swap(handler_instance, id_pairs, refine=True):\n",
        "    \"\"\"여러 이미지 쌍에 대해 배치 스왑을 실행하고 결과를 결합하여 표시합니다.\"\"\"\n",
        "    if not handler_instance:\n",
        "        print(\"❌ 핸들러가 초기화되지 않았습니다.\")\n",
        "        return\n",
        "\n",
        "    all_results = []\n",
        "    print(f\"\\n⚙️ 총 {len(id_pairs)}개의 쌍에 대한 배치 작업을 시작합니다...\")\n",
        "    for src_id, tgt_id in tqdm(id_pairs, desc=\"배치 처리\"):\n",
        "        try:\n",
        "            result = handler_instance.run(src_id, tgt_id, refine)\n",
        "            all_results.append(result)\n",
        "        except Exception as e:\n",
        "            print(f\"❌ ID 쌍 ({src_id}, {tgt_id}) 처리 중 오류 발생: {e}\")\n",
        "            continue\n",
        "\n",
        "    if all_results:\n",
        "        # 모든 결과 이미지를 세로로 연결\n",
        "        final_image = cv2.vconcat(all_results)\n",
        "\n",
        "        # 결과 저장 및 표시\n",
        "        result_filename = f\"batch_result_{len(id_pairs)}_pairs.jpg\"\n",
        "        cv2.imwrite(f\"/content/{result_filename}\", final_image)\n",
        "        print(f\"\\n💾 배치 결과가 '{result_filename}' 파일로 저장되었습니다.\")\n",
        "\n",
        "        # 이미지 표시 (너무 클 수 있으므로 크기 조정)\n",
        "        height, width, _ = final_image.shape\n",
        "        scale = 800 / width # 너비를 800px로 조정\n",
        "\n",
        "        img_disp = Image(f'/content/{result_filename}', width=int(width*scale), height=int(height*scale))\n",
        "        display(img_disp)\n",
        "    else:\n",
        "        print(\"처리된 결과가 없습니다.\")"
      ]
    },
    {
      "cell_type": "markdown",
      "id": "52c1b23a",
      "metadata": {
        "id": "52c1b23a"
      },
      "source": [
        "# INFERENCE / TEST codes"
      ]
    },
    {
      "cell_type": "code",
      "execution_count": null,
      "id": "78c7052f",
      "metadata": {
        "id": "78c7052f",
        "vscode": {
          "languageId": "plaintext"
        }
      },
      "outputs": [],
      "source": [
        "print(\"\\n\\n---\\n\\n\")\n",
        "print(\"🎨 단일 이미지 스왑을 실행합니다.\")\n",
        "\n",
        "# --- 여기서 소스와 타겟 ID를 변경하세요 ---\n",
        "SOURCE_ID = 2332\n",
        "TARGET_ID = 2107\n",
        "# -----------------------------------------\n",
        "\n",
        "if handler:\n",
        "    if SOURCE_ID in valid_ids and TARGET_ID in valid_ids:\n",
        "        run_swap(handler, SOURCE_ID, TARGET_ID, refine=True)\n",
        "    else:\n",
        "        print(f\"❌ ID 오류: 소스({SOURCE_ID}) 또는 타겟({TARGET_ID}) ID가 유효한 데이터 목록에 없습니다.\")\n",
        "else:\n",
        "    print(\"⚠️ 모델이 초기화되지 않았습니다. 이전 단계를 확인해주세요.\")"
      ]
    },
    {
      "cell_type": "code",
      "execution_count": null,
      "id": "3d0db8d4",
      "metadata": {
        "id": "3d0db8d4",
        "vscode": {
          "languageId": "plaintext"
        }
      },
      "outputs": [],
      "source": [
        "print(\"\\n\\n---\\n\\n\")\n",
        "print(\"🏭 배치 처리를 실행합니다.\")\n",
        "\n",
        "# --- 여기에 처리할 (소스, 타겟) ID 쌍 목록을 추가하세요 ---\n",
        "batch_pairs = [\n",
        "    (100, 200),\n",
        "    (300, 400),\n",
        "    (500, 600)\n",
        "    # 필요한 만큼 쌍을 추가하세요.\n",
        "]\n",
        "# ----------------------------------------------------\n",
        "\n",
        "if handler:\n",
        "    # 배치 쌍 유효성 검사\n",
        "    valid_pairs = []\n",
        "    for src, tgt in batch_pairs:\n",
        "        if src in valid_ids and tgt in valid_ids:\n",
        "            valid_pairs.append((src, tgt))\n",
        "        else:\n",
        "            print(f\"⚠️ ID 쌍 ({src}, {tgt})은(는) 유효하지 않아 건너뜁니다.\")\n",
        "\n",
        "    if valid_pairs:\n",
        "        run_batch_swap(handler, valid_pairs, refine=True)\n",
        "    else:\n",
        "        print(\"처리할 유효한 ID 쌍이 없습니다.\")\n",
        "else:\n",
        "    print(\"⚠️ 모델이 초기화되지 않았습니다. 이전 단계를 확인해주세요.\")"
      ]
    },
    {
      "cell_type": "code",
      "execution_count": null,
      "id": "26f99b13",
      "metadata": {
        "id": "26f99b13",
        "vscode": {
          "languageId": "plaintext"
        }
      },
      "outputs": [],
      "source": [
        "print(\"\\n\\n---\\n\\n\")\n",
        "print(\"📥 결과 파일 다운로드를 준비합니다.\")\n",
        "\n",
        "# 결과 파일들 찾기\n",
        "result_files = [f for f in os.listdir('/content/') if f.startswith((\"swap_result_\", \"batch_result_\")) and f.endswith(\".jpg\")]\n",
        "\n",
        "if result_files:\n",
        "    print(f\"📁 발견된 결과 파일: {len(result_files)}개\")\n",
        "    for file in result_files:\n",
        "        print(f\"  - {file}\")\n",
        "\n",
        "    print(\"\\n💾 파일을 다운로드하려면 아래 코드를 별도의 셀에서 실행하세요:\")\n",
        "    for file in result_files:\n",
        "        print(f\"files.download('/content/{file}')\")\n",
        "else:\n",
        "    print(\"❌ 다운로드할 결과 파일을 찾을 수 없습니다.\")"
      ]
    }
  ],
  "metadata": {
    "accelerator": "GPU",
    "colab": {
      "gpuType": "T4",
      "machine_shape": "hm",
      "provenance": []
    },
    "kernelspec": {
      "display_name": "Python 3",
      "name": "python3"
    },
    "language_info": {
      "name": "python"
    },
    "widgets": {
      "application/vnd.jupyter.widget-state+json": {
        "24847e4a575343728a47eb0b4e203cda": {
          "model_module": "@jupyter-widgets/controls",
          "model_module_version": "1.5.0",
          "model_name": "HBoxModel",
          "state": {
            "_dom_classes": [],
            "_model_module": "@jupyter-widgets/controls",
            "_model_module_version": "1.5.0",
            "_model_name": "HBoxModel",
            "_view_count": null,
            "_view_module": "@jupyter-widgets/controls",
            "_view_module_version": "1.5.0",
            "_view_name": "HBoxView",
            "box_style": "",
            "children": [
              "IPY_MODEL_e3ff854dfa624ccfb76c3fffc18f5b91",
              "IPY_MODEL_c033720be7c0404ba5e8e9af9a91292c",
              "IPY_MODEL_ae1d6b1dd2f2471a9a3599056f1f0d47"
            ],
            "layout": "IPY_MODEL_a32b0c6ca9de4971b0e7acc192f87dd4"
          }
        },
        "38d2bdd8f9d04b4b8fef1a8752a950a3": {
          "model_module": "@jupyter-widgets/controls",
          "model_module_version": "1.5.0",
          "model_name": "ProgressStyleModel",
          "state": {
            "_model_module": "@jupyter-widgets/controls",
            "_model_module_version": "1.5.0",
            "_model_name": "ProgressStyleModel",
            "_view_count": null,
            "_view_module": "@jupyter-widgets/base",
            "_view_module_version": "1.2.0",
            "_view_name": "StyleView",
            "bar_color": null,
            "description_width": ""
          }
        },
        "3ae59530d8de42d38ec7e17579c313bd": {
          "model_module": "@jupyter-widgets/controls",
          "model_module_version": "1.5.0",
          "model_name": "DescriptionStyleModel",
          "state": {
            "_model_module": "@jupyter-widgets/controls",
            "_model_module_version": "1.5.0",
            "_model_name": "DescriptionStyleModel",
            "_view_count": null,
            "_view_module": "@jupyter-widgets/base",
            "_view_module_version": "1.2.0",
            "_view_name": "StyleView",
            "description_width": ""
          }
        },
        "61710b1c269f45e0a7f0394c8021b96c": {
          "model_module": "@jupyter-widgets/base",
          "model_module_version": "1.2.0",
          "model_name": "LayoutModel",
          "state": {
            "_model_module": "@jupyter-widgets/base",
            "_model_module_version": "1.2.0",
            "_model_name": "LayoutModel",
            "_view_count": null,
            "_view_module": "@jupyter-widgets/base",
            "_view_module_version": "1.2.0",
            "_view_name": "LayoutView",
            "align_content": null,
            "align_items": null,
            "align_self": null,
            "border": null,
            "bottom": null,
            "display": null,
            "flex": null,
            "flex_flow": null,
            "grid_area": null,
            "grid_auto_columns": null,
            "grid_auto_flow": null,
            "grid_auto_rows": null,
            "grid_column": null,
            "grid_gap": null,
            "grid_row": null,
            "grid_template_areas": null,
            "grid_template_columns": null,
            "grid_template_rows": null,
            "height": null,
            "justify_content": null,
            "justify_items": null,
            "left": null,
            "margin": null,
            "max_height": null,
            "max_width": null,
            "min_height": null,
            "min_width": null,
            "object_fit": null,
            "object_position": null,
            "order": null,
            "overflow": null,
            "overflow_x": null,
            "overflow_y": null,
            "padding": null,
            "right": null,
            "top": null,
            "visibility": null,
            "width": null
          }
        },
        "65266b2088124f069163231b36c5fd6e": {
          "model_module": "@jupyter-widgets/base",
          "model_module_version": "1.2.0",
          "model_name": "LayoutModel",
          "state": {
            "_model_module": "@jupyter-widgets/base",
            "_model_module_version": "1.2.0",
            "_model_name": "LayoutModel",
            "_view_count": null,
            "_view_module": "@jupyter-widgets/base",
            "_view_module_version": "1.2.0",
            "_view_name": "LayoutView",
            "align_content": null,
            "align_items": null,
            "align_self": null,
            "border": null,
            "bottom": null,
            "display": null,
            "flex": null,
            "flex_flow": null,
            "grid_area": null,
            "grid_auto_columns": null,
            "grid_auto_flow": null,
            "grid_auto_rows": null,
            "grid_column": null,
            "grid_gap": null,
            "grid_row": null,
            "grid_template_areas": null,
            "grid_template_columns": null,
            "grid_template_rows": null,
            "height": null,
            "justify_content": null,
            "justify_items": null,
            "left": null,
            "margin": null,
            "max_height": null,
            "max_width": null,
            "min_height": null,
            "min_width": null,
            "object_fit": null,
            "object_position": null,
            "order": null,
            "overflow": null,
            "overflow_x": null,
            "overflow_y": null,
            "padding": null,
            "right": null,
            "top": null,
            "visibility": null,
            "width": null
          }
        },
        "a32b0c6ca9de4971b0e7acc192f87dd4": {
          "model_module": "@jupyter-widgets/base",
          "model_module_version": "1.2.0",
          "model_name": "LayoutModel",
          "state": {
            "_model_module": "@jupyter-widgets/base",
            "_model_module_version": "1.2.0",
            "_model_name": "LayoutModel",
            "_view_count": null,
            "_view_module": "@jupyter-widgets/base",
            "_view_module_version": "1.2.0",
            "_view_name": "LayoutView",
            "align_content": null,
            "align_items": null,
            "align_self": null,
            "border": null,
            "bottom": null,
            "display": null,
            "flex": null,
            "flex_flow": null,
            "grid_area": null,
            "grid_auto_columns": null,
            "grid_auto_flow": null,
            "grid_auto_rows": null,
            "grid_column": null,
            "grid_gap": null,
            "grid_row": null,
            "grid_template_areas": null,
            "grid_template_columns": null,
            "grid_template_rows": null,
            "height": null,
            "justify_content": null,
            "justify_items": null,
            "left": null,
            "margin": null,
            "max_height": null,
            "max_width": null,
            "min_height": null,
            "min_width": null,
            "object_fit": null,
            "object_position": null,
            "order": null,
            "overflow": null,
            "overflow_x": null,
            "overflow_y": null,
            "padding": null,
            "right": null,
            "top": null,
            "visibility": null,
            "width": null
          }
        },
        "ae1d6b1dd2f2471a9a3599056f1f0d47": {
          "model_module": "@jupyter-widgets/controls",
          "model_module_version": "1.5.0",
          "model_name": "HTMLModel",
          "state": {
            "_dom_classes": [],
            "_model_module": "@jupyter-widgets/controls",
            "_model_module_version": "1.5.0",
            "_model_name": "HTMLModel",
            "_view_count": null,
            "_view_module": "@jupyter-widgets/controls",
            "_view_module_version": "1.5.0",
            "_view_name": "HTMLView",
            "description": "",
            "description_tooltip": null,
            "layout": "IPY_MODEL_ba6c8ae9b7444160b504b30a19a87f5a",
            "placeholder": "​",
            "style": "IPY_MODEL_c0668561b2624bd784dffaf63ed399ec",
            "value": " 16/30000 [00:04&lt;2:31:41,  3.29it/s]"
          }
        },
        "ba6c8ae9b7444160b504b30a19a87f5a": {
          "model_module": "@jupyter-widgets/base",
          "model_module_version": "1.2.0",
          "model_name": "LayoutModel",
          "state": {
            "_model_module": "@jupyter-widgets/base",
            "_model_module_version": "1.2.0",
            "_model_name": "LayoutModel",
            "_view_count": null,
            "_view_module": "@jupyter-widgets/base",
            "_view_module_version": "1.2.0",
            "_view_name": "LayoutView",
            "align_content": null,
            "align_items": null,
            "align_self": null,
            "border": null,
            "bottom": null,
            "display": null,
            "flex": null,
            "flex_flow": null,
            "grid_area": null,
            "grid_auto_columns": null,
            "grid_auto_flow": null,
            "grid_auto_rows": null,
            "grid_column": null,
            "grid_gap": null,
            "grid_row": null,
            "grid_template_areas": null,
            "grid_template_columns": null,
            "grid_template_rows": null,
            "height": null,
            "justify_content": null,
            "justify_items": null,
            "left": null,
            "margin": null,
            "max_height": null,
            "max_width": null,
            "min_height": null,
            "min_width": null,
            "object_fit": null,
            "object_position": null,
            "order": null,
            "overflow": null,
            "overflow_x": null,
            "overflow_y": null,
            "padding": null,
            "right": null,
            "top": null,
            "visibility": null,
            "width": null
          }
        },
        "c033720be7c0404ba5e8e9af9a91292c": {
          "model_module": "@jupyter-widgets/controls",
          "model_module_version": "1.5.0",
          "model_name": "FloatProgressModel",
          "state": {
            "_dom_classes": [],
            "_model_module": "@jupyter-widgets/controls",
            "_model_module_version": "1.5.0",
            "_model_name": "FloatProgressModel",
            "_view_count": null,
            "_view_module": "@jupyter-widgets/controls",
            "_view_module_version": "1.5.0",
            "_view_name": "ProgressView",
            "bar_style": "danger",
            "description": "",
            "description_tooltip": null,
            "layout": "IPY_MODEL_65266b2088124f069163231b36c5fd6e",
            "max": 30000,
            "min": 0,
            "orientation": "horizontal",
            "style": "IPY_MODEL_38d2bdd8f9d04b4b8fef1a8752a950a3",
            "value": 16
          }
        },
        "c0668561b2624bd784dffaf63ed399ec": {
          "model_module": "@jupyter-widgets/controls",
          "model_module_version": "1.5.0",
          "model_name": "DescriptionStyleModel",
          "state": {
            "_model_module": "@jupyter-widgets/controls",
            "_model_module_version": "1.5.0",
            "_model_name": "DescriptionStyleModel",
            "_view_count": null,
            "_view_module": "@jupyter-widgets/base",
            "_view_module_version": "1.2.0",
            "_view_name": "StyleView",
            "description_width": ""
          }
        },
        "e3ff854dfa624ccfb76c3fffc18f5b91": {
          "model_module": "@jupyter-widgets/controls",
          "model_module_version": "1.5.0",
          "model_name": "HTMLModel",
          "state": {
            "_dom_classes": [],
            "_model_module": "@jupyter-widgets/controls",
            "_model_module_version": "1.5.0",
            "_model_name": "HTMLModel",
            "_view_count": null,
            "_view_module": "@jupyter-widgets/controls",
            "_view_module_version": "1.5.0",
            "_view_name": "HTMLView",
            "description": "",
            "description_tooltip": null,
            "layout": "IPY_MODEL_61710b1c269f45e0a7f0394c8021b96c",
            "placeholder": "​",
            "style": "IPY_MODEL_3ae59530d8de42d38ec7e17579c313bd",
            "value": "MAPPING:   0%"
          }
        }
      }
    }
  },
  "nbformat": 4,
  "nbformat_minor": 5
}
