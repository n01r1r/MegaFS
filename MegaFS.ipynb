{
  "cells": [
    {
      "cell_type": "markdown",
      "id": "24ac0e40",
      "metadata": {},
      "source": [
        "# MegaFS Modularized - Face Swapping Notebook\n",
        "\n",
        "This notebook demonstrates the modularized MegaFS face swapping system with automatic repository cloning.\n",
        "\n",
        "## Setup Instructions\n",
        "\n",
        "1. **Update repository URL** in the first cell below\n",
        "2. **Upload your dataset** to Google Drive:\n",
        "   - Upload `celeba_mask_hq.zip` to `/content/drive/MyDrive/Datasets/`\n",
        "3. **Upload weight files** to Google Drive:\n",
        "   - Place all weight files in `/content/drive/MyDrive/Datasets/weights/`\n",
        "4. **Run all cells** - everything will be set up automatically\n",
        "\n",
        "## Features\n",
        "\n",
        "- **Automatic setup**: Git clone, dataset extraction, data mapping\n",
        "- **Modular architecture**: Better debugging and maintenance\n",
        "- **Comprehensive logging**: Error handling and performance profiling\n",
        "- **Configuration management**: Easy parameter adjustment\n"
      ]
    },
    {
      "cell_type": "code",
      "execution_count": null,
      "id": "7d4755e1",
      "metadata": {
        "colab": {
          "base_uri": "https://localhost:8080/"
        },
        "id": "7d4755e1",
        "outputId": "dd30a2e6-9cd4-46f4-bf78-641768dd583a"
      },
      "outputs": [
        {
          "ename": "ModuleNotFoundError",
          "evalue": "No module named 'google.colab'",
          "output_type": "error",
          "traceback": [
            "\u001b[1;31m---------------------------------------------------------------------------\u001b[0m",
            "\u001b[1;31mModuleNotFoundError\u001b[0m                       Traceback (most recent call last)",
            "Cell \u001b[1;32mIn[3], line 9\u001b[0m\n\u001b[0;32m      7\u001b[0m \u001b[38;5;28;01mimport\u001b[39;00m \u001b[38;5;21;01mnumpy\u001b[39;00m \u001b[38;5;28;01mas\u001b[39;00m \u001b[38;5;21;01mnp\u001b[39;00m\n\u001b[0;32m      8\u001b[0m \u001b[38;5;28;01mimport\u001b[39;00m \u001b[38;5;21;01margparse\u001b[39;00m\n\u001b[1;32m----> 9\u001b[0m \u001b[38;5;28;01mfrom\u001b[39;00m \u001b[38;5;21;01mgoogle\u001b[39;00m\u001b[38;5;21;01m.\u001b[39;00m\u001b[38;5;21;01mcolab\u001b[39;00m \u001b[38;5;28;01mimport\u001b[39;00m drive\n\u001b[0;32m     10\u001b[0m \u001b[38;5;28;01mfrom\u001b[39;00m \u001b[38;5;21;01mIPython\u001b[39;00m\u001b[38;5;21;01m.\u001b[39;00m\u001b[38;5;21;01mdisplay\u001b[39;00m \u001b[38;5;28;01mimport\u001b[39;00m display, Image\n\u001b[0;32m     11\u001b[0m \u001b[38;5;28;01mimport\u001b[39;00m \u001b[38;5;21;01mmatplotlib\u001b[39;00m\u001b[38;5;21;01m.\u001b[39;00m\u001b[38;5;21;01mpyplot\u001b[39;00m \u001b[38;5;28;01mas\u001b[39;00m \u001b[38;5;21;01mplt\u001b[39;00m\n",
            "\u001b[1;31mModuleNotFoundError\u001b[0m: No module named 'google.colab'"
          ]
        }
      ],
      "source": [
        "# Setup and clone repository\n",
        "import os\n",
        "import sys\n",
        "import subprocess\n",
        "import shutil\n",
        "\n",
        "# IMPORTANT: Update this URL with your actual GitHub repository\n",
        "repo_url = \"https://github.com/n01r1r/MegaFS.git\"  # ⚠️ CHANGE THIS URL IF NEEDED ⚠️\n",
        "repo_dir = \"/content/MegaFS\"\n",
        "\n",
        "print(\"=\" * 60)\n",
        "print(\"MegaFS Modularized - Automatic Setup\")\n",
        "print(\"=\" * 60)\n",
        "print(f\"Repository URL: {repo_url}\")\n",
        "print(f\"Target directory: {repo_dir}\")\n",
        "print(\"=\" * 60)\n",
        "\n",
        "# Clone the repository if not already present\n",
        "if not os.path.exists(repo_dir):\n",
        "    print(\"INFO: Cloning MegaFS repository...\")\n",
        "    try:\n",
        "        subprocess.run([\"git\", \"clone\", repo_url, repo_dir], check=True)\n",
        "        print(\"SUCCESS: Repository cloned successfully\")\n",
        "    except subprocess.CalledProcessError as e:\n",
        "        print(f\"ERROR: Failed to clone repository: {e}\")\n",
        "        print(\"Please check the repository URL and try again\")\n",
        "        print(\"Make sure the repository is public or you have access\")\n",
        "        sys.exit(1)\n",
        "else:\n",
        "    print(\"INFO: Repository already exists, updating...\")\n",
        "    try:\n",
        "        subprocess.run([\"git\", \"-C\", repo_dir, \"pull\"], check=True)\n",
        "        print(\"SUCCESS: Repository updated\")\n",
        "    except subprocess.CalledProcessError as e:\n",
        "        print(f\"WARNING: Failed to update repository: {e}\")\n",
        "\n",
        "# Add the cloned repository to Python path\n",
        "sys.path.insert(0, repo_dir)\n",
        "\n",
        "# Change to the repository directory\n",
        "os.chdir(repo_dir)\n",
        "\n",
        "print(\"SUCCESS: Repository setup complete\")\n",
        "print(f\"INFO: Working directory: {os.getcwd()}\")\n",
        "print(\"=\" * 60)"
      ]
    },
    {
      "cell_type": "code",
      "execution_count": null,
      "id": "3d63405a",
      "metadata": {
        "colab": {
          "base_uri": "https://localhost:8080/"
        },
        "id": "3d63405a",
        "outputId": "3da10757-b735-4b84-d2fb-ddb6c41be3de"
      },
      "outputs": [
        {
          "name": "stdout",
          "output_type": "stream",
          "text": [
            "Mounted at /content/drive\n",
            "Google Drive mount complete\n"
          ]
        }
      ],
      "source": [
        "# Import required libraries\n",
        "import zipfile\n",
        "from glob import glob\n",
        "from tqdm.notebook import tqdm\n",
        "import torch\n",
        "import cv2\n",
        "import numpy as np\n",
        "import argparse\n",
        "from google.colab import drive\n",
        "from IPython.display import display, Image\n",
        "import matplotlib.pyplot as plt\n",
        "from google.colab import files\n",
        "\n",
        "# Import modularized MegaFS components\n",
        "from config import Config, DEFAULT_CONFIGS\n",
        "from models.megafs import MegaFS\n",
        "from models.weight_loaders import verify_all_weights\n",
        "from utils.debug_utils import check_system_requirements\n",
        "from utils.data_utils import DataMapManager\n",
        "\n",
        "print(\"SUCCESS: All imports complete - Modularized MegaFS ready\")"
      ]
    },
    {
      "cell_type": "code",
      "execution_count": null,
      "id": "7820a47d",
      "metadata": {
        "colab": {
          "base_uri": "https://localhost:8080/"
        },
        "id": "7820a47d",
        "outputId": "5db7314c-7fcb-42cb-818b-4c04d7d2d62c"
      },
      "outputs": [
        {
          "name": "stdout",
          "output_type": "stream",
          "text": [
            "\n",
            " Preparing dataset...\n"
          ]
        }
      ],
      "source": [
        "# Mount Google Drive\n",
        "try:\n",
        "    drive.mount('/content/drive')\n",
        "    print(\"SUCCESS: Google Drive mounted\")\n",
        "except Exception as e:\n",
        "    print(f\"ERROR: Google Drive mount failed: {e}\")\n",
        "\n",
        "# Dataset preparation\n",
        "print(\"INFO: Preparing dataset...\")\n",
        "dataset_zip_path = \"/content/drive/MyDrive/Datasets/celeba_mask_hq.zip\"\n",
        "base_dir = \"/content/\""
      ]
    },
    {
      "cell_type": "code",
      "execution_count": null,
      "id": "59730313",
      "metadata": {
        "colab": {
          "base_uri": "https://localhost:8080/"
        },
        "id": "59730313",
        "outputId": "4f90c989-221c-4305-a630-f34db791306d"
      },
      "outputs": [
        {
          "name": "stdout",
          "output_type": "stream",
          "text": [
            " '/content/drive/MyDrive/Datasets/celeba_mask_hq.zip' Not Found\n"
          ]
        }
      ],
      "source": [
        "# Extract dataset if zip file exists\n",
        "if os.path.exists(dataset_zip_path):\n",
        "    print(f\"INFO: Extracting dataset from '{dataset_zip_path}'\")\n",
        "    with zipfile.ZipFile(dataset_zip_path, 'r') as zip_ref:\n",
        "        zip_ref.extractall(base_dir)\n",
        "    print(\"SUCCESS: Dataset extraction complete\")\n",
        "else:\n",
        "    print(f\"WARNING: Dataset zip file not found at '{dataset_zip_path}'\")\n",
        "    print(\"Please ensure the dataset is uploaded to Google Drive\")"
      ]
    },
    {
      "cell_type": "code",
      "execution_count": null,
      "id": "b992c9e9",
      "metadata": {
        "id": "b992c9e9"
      },
      "outputs": [],
      "source": [
        "# Dataset configuration\n",
        "dataset_root = os.path.join(base_dir, \"CelebAMask-HQ\")\n",
        "img_dir = os.path.join(dataset_root, \"CelebA-HQ-img\")\n",
        "mask_base_dir = os.path.join(dataset_root, \"CelebAMask-HQ-mask-anno\")\n",
        "data_map_path = os.path.join(repo_dir, \"data_map.json\")  # Use data_map.json from cloned repo\n",
        "\n",
        "print(f\"INFO: Dataset root: {dataset_root}\")\n",
        "print(f\"INFO: Data map path: {data_map_path}\")\n",
        "\n",
        "# Initialize data manager\n",
        "data_manager = DataMapManager(data_map_path)\n",
        "data_map = data_manager.data_map\n",
        "valid_ids = []"
      ]
    },
    {
      "cell_type": "code",
      "execution_count": null,
      "id": "f03e01b8",
      "metadata": {
        "colab": {
          "base_uri": "https://localhost:8080/",
          "height": 470,
          "referenced_widgets": [
            "24847e4a575343728a47eb0b4e203cda",
            "e3ff854dfa624ccfb76c3fffc18f5b91",
            "c033720be7c0404ba5e8e9af9a91292c",
            "ae1d6b1dd2f2471a9a3599056f1f0d47",
            "a32b0c6ca9de4971b0e7acc192f87dd4",
            "61710b1c269f45e0a7f0394c8021b96c",
            "3ae59530d8de42d38ec7e17579c313bd",
            "65266b2088124f069163231b36c5fd6e",
            "38d2bdd8f9d04b4b8fef1a8752a950a3",
            "ba6c8ae9b7444160b504b30a19a87f5a",
            "c0668561b2624bd784dffaf63ed399ec"
          ]
        },
        "id": "f03e01b8",
        "outputId": "25ee23eb-206b-4d94-ff7f-54c80cb1709b"
      },
      "outputs": [
        {
          "name": "stdout",
          "output_type": "stream",
          "text": [
            "\n",
            "Expecting data_map.json created externally by create_datamap.py\n",
            "Found data_map.json; loading will happen in the next cell.\n"
          ]
        }
      ],
      "source": [
        "# Check data map status\n",
        "print(\"INFO: Checking data map status...\")\n",
        "if not os.path.exists(data_map_path):\n",
        "    print(f\"ERROR: Data map file '{data_map_path}' not found.\")\n",
        "    print(\"INFO: Generating data_map.json from dataset...\")\n",
        "    \n",
        "    # Generate data map if it doesn't exist\n",
        "    if os.path.exists(dataset_root):\n",
        "        try:\n",
        "            # Run create_datamap.py in the dataset root\n",
        "            import subprocess\n",
        "            result = subprocess.run([\n",
        "                \"python\", \"create_datamap.py\"\n",
        "            ], cwd=dataset_root, capture_output=True, text=True)\n",
        "            \n",
        "            if result.returncode == 0:\n",
        "                print(\"SUCCESS: data_map.json generated\")\n",
        "                # Reload data manager\n",
        "                data_manager = DataMapManager(data_map_path)\n",
        "                data_map = data_manager.data_map\n",
        "            else:\n",
        "                print(f\"ERROR: Failed to generate data_map.json: {result.stderr}\")\n",
        "        except Exception as e:\n",
        "            print(f\"ERROR: Failed to generate data_map.json: {e}\")\n",
        "    else:\n",
        "        print(\"ERROR: Dataset root not found. Please check dataset extraction.\")\n",
        "else:\n",
        "    print(\"SUCCESS: Found data_map.json\")\n",
        "    print(f\"INFO: Loaded {len(data_map)} entries from data map\")"
      ]
    },
    {
      "cell_type": "code",
      "execution_count": null,
      "id": "024edec6",
      "metadata": {},
      "outputs": [
        {
          "name": "stdout",
          "output_type": "stream",
          "text": [
            "\n",
            "Loading data map...\n",
            "Loaded 0 valid items from './data_map.json'\n",
            "   id=0  image_exists=False  mask_exists=False\n",
            "     image_path: \\content\\CelebAMask-HQ\\CelebA-HQ-img\\0.jpg\n",
            "     mask_path:  None\n",
            "   id=1  image_exists=False  mask_exists=False\n",
            "     image_path: \\content\\CelebAMask-HQ\\CelebA-HQ-img\\1.jpg\n",
            "     mask_path:  None\n",
            "   id=10  image_exists=False  mask_exists=False\n",
            "     image_path: \\content\\CelebAMask-HQ\\CelebA-HQ-img\\10.jpg\n",
            "     mask_path:  None\n"
          ]
        }
      ],
      "source": [
        "# Data map is already loaded by DataMapManager\n",
        "# Get valid IDs for testing\n",
        "print(\"INFO: Getting valid dataset IDs...\")\n",
        "valid_ids = data_manager.get_valid_ids(dataset_root, sample_size=100)\n",
        "print(f\"SUCCESS: Found {len(valid_ids)} valid IDs\")\n",
        "\n",
        "# Verify sample data\n",
        "if valid_ids:\n",
        "    stats = data_manager.verify_sample(sample_size=10, dataset_root=dataset_root)\n",
        "    print(f\"INFO: Sample verification - {stats}\")\n",
        "else:\n",
        "    print(\"WARNING: No valid IDs found. Check dataset paths and data map.\")\n"
      ]
    },
    {
      "cell_type": "code",
      "execution_count": null,
      "id": "c0104a80",
      "metadata": {},
      "outputs": [],
      "source": [
        "# System requirements check\n",
        "print(\"INFO: Checking system requirements...\")\n",
        "check_system_requirements()\n"
      ]
    },
    {
      "cell_type": "code",
      "execution_count": null,
      "id": "9d9e36f5",
      "metadata": {
        "id": "9d9e36f5"
      },
      "outputs": [],
      "source": [
        "IMG_ROOT = img_dir\n",
        "MASK_ROOT = mask_base_dir"
      ]
    },
    {
      "cell_type": "code",
      "execution_count": null,
      "id": "Rfwz8rrH8cLw",
      "metadata": {
        "id": "Rfwz8rrH8cLw"
      },
      "outputs": [],
      "source": [
        "# Configuration setup\n",
        "print(\"INFO: Setting up configuration...\")\n",
        "\n",
        "# Google Drive checkpoint directory\n",
        "checkpoint_dir = '/content/drive/MyDrive/Datasets/weights'\n",
        "\n",
        "# Create configuration\n",
        "config = Config(\n",
        "    swap_type=\"ftm\",  # Change to \"injection\" or \"lcr\" as needed\n",
        "    dataset_root=dataset_root,\n",
        "    img_root=img_dir,\n",
        "    mask_root=mask_base_dir,\n",
        "    checkpoint_dir=checkpoint_dir\n",
        ")\n",
        "\n",
        "print(\"SUCCESS: Configuration created\")\n",
        "config.print_config()\n",
        "\n",
        "# Verify that we're using the cloned repository files\n",
        "print(f\"INFO: Using models from: {repo_dir}/models\")\n",
        "print(f\"INFO: Using utils from: {repo_dir}/utils\")\n",
        "print(f\"INFO: Using data_map from: {data_map_path}\")"
      ]
    },
    {
      "cell_type": "code",
      "execution_count": null,
      "id": "157aa6e7",
      "metadata": {
        "id": "157aa6e7"
      },
      "outputs": [],
      "source": [
        "# Verify weight files\n",
        "print(\"INFO: Verifying weight files...\")\n",
        "if not verify_all_weights(checkpoint_dir):\n",
        "    print(\"ERROR: Weight verification failed. Please check your weight files.\")\n",
        "    print(\"Required files:\")\n",
        "    print(\"  - ftm_final.pth\")\n",
        "    print(\"  - injection_final.pth\") \n",
        "    print(\"  - lcr_final.pth\")\n",
        "    print(\"  - stylegan2-ffhq-config-f.pth\")\n",
        "else:\n",
        "    print(\"SUCCESS: All weight files verified\")"
      ]
    },
    {
      "cell_type": "code",
      "execution_count": null,
      "id": "d13e6486",
      "metadata": {
        "id": "d13e6486"
      },
      "outputs": [],
      "source": [
        "# Swap type configuration\n",
        "SWAP_TYPE = \"ftm\"  # Change to \"injection\" or \"lcr\" as needed\n",
        "print(f\"INFO: Using swap type: {SWAP_TYPE}\")"
      ]
    },
    {
      "cell_type": "code",
      "execution_count": null,
      "id": "413f753b",
      "metadata": {
        "id": "413f753b"
      },
      "outputs": [],
      "source": [
        "# Initialize MegaFS with modularized components\n",
        "print(\"INFO: Initializing MegaFS...\")\n",
        "handler = None\n",
        "\n",
        "try:\n",
        "    # Update config with current swap type\n",
        "    config.swap.swap_type = SWAP_TYPE\n",
        "    \n",
        "    # Initialize MegaFS with configuration and data map\n",
        "    handler = MegaFS(\n",
        "        config=config,\n",
        "        data_map=data_map,\n",
        "        debug=True  # Enable debug logging\n",
        "    )\n",
        "    print(f\"SUCCESS: {SWAP_TYPE}-MegaFS model handler created\")\n",
        "    \n",
        "except Exception as e:\n",
        "    print(f\"ERROR: Failed to initialize MegaFS: {e}\")\n",
        "    import traceback\n",
        "    traceback.print_exc()"
      ]
    },
    {
      "cell_type": "markdown",
      "id": "178f9584",
      "metadata": {
        "id": "178f9584"
      },
      "source": [
        "## Helper functions for inference"
      ]
    },
    {
      "cell_type": "code",
      "execution_count": null,
      "id": "120e49d3",
      "metadata": {},
      "outputs": [],
      "source": [
        "# Reference implementation removed - using modularized MegaFS\n",
        "print(\"INFO: Using modularized MegaFS implementation\")\n"
      ]
    },
    {
      "cell_type": "code",
      "execution_count": null,
      "id": "9e1044d5",
      "metadata": {},
      "outputs": [],
      "source": [
        "# Reference handler removed - using modularized handler\n",
        "print(\"INFO: Modularized handler will be initialized in the next cell\")\n"
      ]
    },
    {
      "cell_type": "code",
      "execution_count": null,
      "id": "aece2f48",
      "metadata": {},
      "outputs": [],
      "source": [
        "# Reference swap function removed - using modularized run_swap function\n",
        "print(\"INFO: Using modularized run_swap function for face swapping\")\n"
      ]
    },
    {
      "cell_type": "code",
      "execution_count": null,
      "id": "81c8b377",
      "metadata": {
        "id": "81c8b377"
      },
      "outputs": [],
      "source": [
        "def run_swap(handler_instance, src_id, tgt_id, refine=True):\n",
        "    \"\"\"Run face swap for a single image pair using modularized MegaFS.\"\"\"\n",
        "    if not handler_instance:\n",
        "        print(\"ERROR: Handler not initialized\")\n",
        "        return\n",
        "\n",
        "    print(f\"INFO: Starting face swap - Source ID: {src_id}, Target ID: {tgt_id}\")\n",
        "    \n",
        "    try:\n",
        "        # Use the modularized run method\n",
        "        result_path, result_image = handler_instance.run(\n",
        "            src_idx=src_id,\n",
        "            tgt_idx=tgt_id,\n",
        "            refine=refine,\n",
        "            save_path=f\"/content/swap_result_{src_id}_to_{tgt_id}.jpg\"\n",
        "        )\n",
        "        \n",
        "        if result_path:\n",
        "            print(f\"SUCCESS: Result saved to {result_path}\")\n",
        "            img_disp = Image(result_path)\n",
        "            display(img_disp)\n",
        "        else:\n",
        "            print(\"WARNING: Face swap completed but failed to save result\")\n",
        "            \n",
        "    except Exception as e:\n",
        "        print(f\"ERROR: Face swap failed for IDs {src_id} -> {tgt_id}: {e}\")\n",
        "        print(\"Check if the dataset IDs exist and paths are correct\")"
      ]
    },
    {
      "cell_type": "code",
      "execution_count": null,
      "id": "705e1c94",
      "metadata": {
        "id": "705e1c94"
      },
      "outputs": [],
      "source": [
        "def run_batch_swap(handler_instance, id_pairs, refine=True):\n",
        "    \"\"\"Run face swap for multiple image pairs using modularized MegaFS.\"\"\"\n",
        "    if not handler_instance:\n",
        "        print(\"ERROR: Handler not initialized\")\n",
        "        return\n",
        "\n",
        "    all_results = []\n",
        "    print(f\"INFO: Starting batch processing for {len(id_pairs)} pairs...\")\n",
        "    \n",
        "    for src_id, tgt_id in tqdm(id_pairs, desc=\"Batch processing\"):\n",
        "        try:\n",
        "            # Use the modularized run method\n",
        "            result_path, result_image = handler_instance.run(\n",
        "                src_idx=src_id,\n",
        "                tgt_idx=tgt_id,\n",
        "                refine=refine\n",
        "            )\n",
        "            \n",
        "            if result_image is not None:\n",
        "                all_results.append(result_image)\n",
        "            else:\n",
        "                print(f\"WARNING: Skipping pair ({src_id}, {tgt_id}) - no result\")\n",
        "                \n",
        "        except Exception as e:\n",
        "            print(f\"ERROR: Failed to process pair ({src_id}, {tgt_id}): {e}\")\n",
        "            continue\n",
        "\n",
        "    if all_results:\n",
        "        final_image = cv2.vconcat(all_results)\n",
        "        result_filename = f\"batch_result_{len(id_pairs)}_pairs.jpg\"\n",
        "        cv2.imwrite(f\"/content/{result_filename}\", final_image)\n",
        "        print(f\"SUCCESS: Batch result saved to {result_filename}\")\n",
        "        \n",
        "        height, width, _ = final_image.shape\n",
        "        scale = 800 / width\n",
        "        img_disp = Image(f'/content/{result_filename}', width=int(width*scale), height=int(height*scale))\n",
        "        display(img_disp)\n",
        "    else:\n",
        "        print(\"ERROR: No results processed\")"
      ]
    },
    {
      "cell_type": "markdown",
      "id": "52c1b23a",
      "metadata": {
        "id": "52c1b23a"
      },
      "source": [
        "# INFERENCE / TEST codes"
      ]
    },
    {
      "cell_type": "code",
      "execution_count": null,
      "id": "087f3970",
      "metadata": {},
      "outputs": [],
      "source": [
        "# Single image face swap\n",
        "print(\"INFO: Running single image face swap...\")\n",
        "\n",
        "# Configure source and target IDs\n",
        "SOURCE_ID = 2332  # Change these IDs as needed\n",
        "TARGET_ID = 2107\n",
        "\n",
        "print(f\"INFO: Source ID: {SOURCE_ID}, Target ID: {TARGET_ID}\")\n",
        "\n",
        "if handler:\n",
        "    run_swap(handler, SOURCE_ID, TARGET_ID, refine=True)\n",
        "else:\n",
        "    print(\"ERROR: MegaFS handler not initialized. Check previous cells.\")\n"
      ]
    },
    {
      "cell_type": "code",
      "execution_count": null,
      "id": "78c7052f",
      "metadata": {
        "id": "78c7052f"
      },
      "outputs": [],
      "source": [
        "# Alternative single image swap (if you want to test different IDs)\n",
        "print(\"INFO: Alternative single image swap...\")\n",
        "\n",
        "# You can test different IDs here\n",
        "ALT_SOURCE_ID = 100\n",
        "ALT_TARGET_ID = 200\n",
        "\n",
        "print(f\"INFO: Alternative test - Source ID: {ALT_SOURCE_ID}, Target ID: {ALT_TARGET_ID}\")\n",
        "\n",
        "if handler and valid_ids:\n",
        "    # Check if IDs are valid\n",
        "    if ALT_SOURCE_ID in valid_ids and ALT_TARGET_ID in valid_ids:\n",
        "        run_swap(handler, ALT_SOURCE_ID, ALT_TARGET_ID, refine=True)\n",
        "    else:\n",
        "        print(f\"WARNING: IDs not in valid set. Available IDs: {len(valid_ids)}\")\n",
        "        print(f\"Using first two valid IDs instead...\")\n",
        "        if len(valid_ids) >= 2:\n",
        "            run_swap(handler, valid_ids[0], valid_ids[1], refine=True)\n",
        "else:\n",
        "    print(\"ERROR: Handler not initialized or no valid IDs available\")"
      ]
    },
    {
      "cell_type": "code",
      "execution_count": null,
      "id": "3d0db8d4",
      "metadata": {
        "id": "3d0db8d4"
      },
      "outputs": [],
      "source": [
        "# Batch processing\n",
        "print(\"INFO: Running batch processing...\")\n",
        "\n",
        "# Define batch pairs - modify these IDs as needed\n",
        "batch_pairs = [\n",
        "    (100, 200),\n",
        "    (300, 400),\n",
        "    (500, 600)\n",
        "    # Add more pairs as needed\n",
        "]\n",
        "\n",
        "print(f\"INFO: Processing {len(batch_pairs)} pairs...\")\n",
        "\n",
        "if handler and valid_ids:\n",
        "    # Validate batch pairs\n",
        "    valid_pairs = []\n",
        "    for src, tgt in batch_pairs:\n",
        "        if src in valid_ids and tgt in valid_ids:\n",
        "            valid_pairs.append((src, tgt))\n",
        "        else:\n",
        "            print(f\"WARNING: Skipping invalid pair ({src}, {tgt})\")\n",
        "\n",
        "    if valid_pairs:\n",
        "        print(f\"INFO: Running batch swap with {len(valid_pairs)} valid pairs\")\n",
        "        run_batch_swap(handler, valid_pairs, refine=True)\n",
        "    else:\n",
        "        print(\"ERROR: No valid pairs found. Check your ID selection.\")\n",
        "        print(f\"Available valid IDs: {len(valid_ids)}\")\n",
        "else:\n",
        "    print(\"ERROR: Handler not initialized or no valid IDs available\")"
      ]
    },
    {
      "cell_type": "code",
      "execution_count": null,
      "id": "26f99b13",
      "metadata": {
        "id": "26f99b13"
      },
      "outputs": [],
      "source": [
        "# Result file management\n",
        "print(\"INFO: Checking for result files...\")\n",
        "\n",
        "# Find result files\n",
        "result_files = [f for f in os.listdir('/content/') if f.startswith((\"swap_result_\", \"batch_result_\")) and f.endswith(\".jpg\")]\n",
        "\n",
        "if result_files:\n",
        "    print(f\"SUCCESS: Found {len(result_files)} result files:\")\n",
        "    for file in result_files:\n",
        "        print(f\"  - {file}\")\n",
        "\n",
        "    print(\"\\nINFO: To download files, run the following commands:\")\n",
        "    for file in result_files:\n",
        "        print(f\"files.download('/content/{file}')\")\n",
        "else:\n",
        "    print(\"WARNING: No result files found. Run face swap cells first.\")"
      ]
    }
  ],
  "metadata": {
    "accelerator": "GPU",
    "colab": {
      "gpuType": "T4",
      "machine_shape": "hm",
      "provenance": []
    },
    "kernelspec": {
      "display_name": "base",
      "language": "python",
      "name": "python3"
    },
    "language_info": {
      "codemirror_mode": {
        "name": "ipython",
        "version": 3
      },
      "file_extension": ".py",
      "mimetype": "text/x-python",
      "name": "python",
      "nbconvert_exporter": "python",
      "pygments_lexer": "ipython3",
      "version": "3.12.3"
    },
    "widgets": {
      "application/vnd.jupyter.widget-state+json": {
        "24847e4a575343728a47eb0b4e203cda": {
          "model_module": "@jupyter-widgets/controls",
          "model_module_version": "1.5.0",
          "model_name": "HBoxModel",
          "state": {
            "_dom_classes": [],
            "_model_module": "@jupyter-widgets/controls",
            "_model_module_version": "1.5.0",
            "_model_name": "HBoxModel",
            "_view_count": null,
            "_view_module": "@jupyter-widgets/controls",
            "_view_module_version": "1.5.0",
            "_view_name": "HBoxView",
            "box_style": "",
            "children": [
              "IPY_MODEL_e3ff854dfa624ccfb76c3fffc18f5b91",
              "IPY_MODEL_c033720be7c0404ba5e8e9af9a91292c",
              "IPY_MODEL_ae1d6b1dd2f2471a9a3599056f1f0d47"
            ],
            "layout": "IPY_MODEL_a32b0c6ca9de4971b0e7acc192f87dd4"
          }
        },
        "38d2bdd8f9d04b4b8fef1a8752a950a3": {
          "model_module": "@jupyter-widgets/controls",
          "model_module_version": "1.5.0",
          "model_name": "ProgressStyleModel",
          "state": {
            "_model_module": "@jupyter-widgets/controls",
            "_model_module_version": "1.5.0",
            "_model_name": "ProgressStyleModel",
            "_view_count": null,
            "_view_module": "@jupyter-widgets/base",
            "_view_module_version": "1.2.0",
            "_view_name": "StyleView",
            "bar_color": null,
            "description_width": ""
          }
        },
        "3ae59530d8de42d38ec7e17579c313bd": {
          "model_module": "@jupyter-widgets/controls",
          "model_module_version": "1.5.0",
          "model_name": "DescriptionStyleModel",
          "state": {
            "_model_module": "@jupyter-widgets/controls",
            "_model_module_version": "1.5.0",
            "_model_name": "DescriptionStyleModel",
            "_view_count": null,
            "_view_module": "@jupyter-widgets/base",
            "_view_module_version": "1.2.0",
            "_view_name": "StyleView",
            "description_width": ""
          }
        },
        "61710b1c269f45e0a7f0394c8021b96c": {
          "model_module": "@jupyter-widgets/base",
          "model_module_version": "1.2.0",
          "model_name": "LayoutModel",
          "state": {
            "_model_module": "@jupyter-widgets/base",
            "_model_module_version": "1.2.0",
            "_model_name": "LayoutModel",
            "_view_count": null,
            "_view_module": "@jupyter-widgets/base",
            "_view_module_version": "1.2.0",
            "_view_name": "LayoutView",
            "align_content": null,
            "align_items": null,
            "align_self": null,
            "border": null,
            "bottom": null,
            "display": null,
            "flex": null,
            "flex_flow": null,
            "grid_area": null,
            "grid_auto_columns": null,
            "grid_auto_flow": null,
            "grid_auto_rows": null,
            "grid_column": null,
            "grid_gap": null,
            "grid_row": null,
            "grid_template_areas": null,
            "grid_template_columns": null,
            "grid_template_rows": null,
            "height": null,
            "justify_content": null,
            "justify_items": null,
            "left": null,
            "margin": null,
            "max_height": null,
            "max_width": null,
            "min_height": null,
            "min_width": null,
            "object_fit": null,
            "object_position": null,
            "order": null,
            "overflow": null,
            "overflow_x": null,
            "overflow_y": null,
            "padding": null,
            "right": null,
            "top": null,
            "visibility": null,
            "width": null
          }
        },
        "65266b2088124f069163231b36c5fd6e": {
          "model_module": "@jupyter-widgets/base",
          "model_module_version": "1.2.0",
          "model_name": "LayoutModel",
          "state": {
            "_model_module": "@jupyter-widgets/base",
            "_model_module_version": "1.2.0",
            "_model_name": "LayoutModel",
            "_view_count": null,
            "_view_module": "@jupyter-widgets/base",
            "_view_module_version": "1.2.0",
            "_view_name": "LayoutView",
            "align_content": null,
            "align_items": null,
            "align_self": null,
            "border": null,
            "bottom": null,
            "display": null,
            "flex": null,
            "flex_flow": null,
            "grid_area": null,
            "grid_auto_columns": null,
            "grid_auto_flow": null,
            "grid_auto_rows": null,
            "grid_column": null,
            "grid_gap": null,
            "grid_row": null,
            "grid_template_areas": null,
            "grid_template_columns": null,
            "grid_template_rows": null,
            "height": null,
            "justify_content": null,
            "justify_items": null,
            "left": null,
            "margin": null,
            "max_height": null,
            "max_width": null,
            "min_height": null,
            "min_width": null,
            "object_fit": null,
            "object_position": null,
            "order": null,
            "overflow": null,
            "overflow_x": null,
            "overflow_y": null,
            "padding": null,
            "right": null,
            "top": null,
            "visibility": null,
            "width": null
          }
        },
        "a32b0c6ca9de4971b0e7acc192f87dd4": {
          "model_module": "@jupyter-widgets/base",
          "model_module_version": "1.2.0",
          "model_name": "LayoutModel",
          "state": {
            "_model_module": "@jupyter-widgets/base",
            "_model_module_version": "1.2.0",
            "_model_name": "LayoutModel",
            "_view_count": null,
            "_view_module": "@jupyter-widgets/base",
            "_view_module_version": "1.2.0",
            "_view_name": "LayoutView",
            "align_content": null,
            "align_items": null,
            "align_self": null,
            "border": null,
            "bottom": null,
            "display": null,
            "flex": null,
            "flex_flow": null,
            "grid_area": null,
            "grid_auto_columns": null,
            "grid_auto_flow": null,
            "grid_auto_rows": null,
            "grid_column": null,
            "grid_gap": null,
            "grid_row": null,
            "grid_template_areas": null,
            "grid_template_columns": null,
            "grid_template_rows": null,
            "height": null,
            "justify_content": null,
            "justify_items": null,
            "left": null,
            "margin": null,
            "max_height": null,
            "max_width": null,
            "min_height": null,
            "min_width": null,
            "object_fit": null,
            "object_position": null,
            "order": null,
            "overflow": null,
            "overflow_x": null,
            "overflow_y": null,
            "padding": null,
            "right": null,
            "top": null,
            "visibility": null,
            "width": null
          }
        },
        "ae1d6b1dd2f2471a9a3599056f1f0d47": {
          "model_module": "@jupyter-widgets/controls",
          "model_module_version": "1.5.0",
          "model_name": "HTMLModel",
          "state": {
            "_dom_classes": [],
            "_model_module": "@jupyter-widgets/controls",
            "_model_module_version": "1.5.0",
            "_model_name": "HTMLModel",
            "_view_count": null,
            "_view_module": "@jupyter-widgets/controls",
            "_view_module_version": "1.5.0",
            "_view_name": "HTMLView",
            "description": "",
            "description_tooltip": null,
            "layout": "IPY_MODEL_ba6c8ae9b7444160b504b30a19a87f5a",
            "placeholder": "​",
            "style": "IPY_MODEL_c0668561b2624bd784dffaf63ed399ec",
            "value": " 16/30000 [00:04&lt;2:31:41,  3.29it/s]"
          }
        },
        "ba6c8ae9b7444160b504b30a19a87f5a": {
          "model_module": "@jupyter-widgets/base",
          "model_module_version": "1.2.0",
          "model_name": "LayoutModel",
          "state": {
            "_model_module": "@jupyter-widgets/base",
            "_model_module_version": "1.2.0",
            "_model_name": "LayoutModel",
            "_view_count": null,
            "_view_module": "@jupyter-widgets/base",
            "_view_module_version": "1.2.0",
            "_view_name": "LayoutView",
            "align_content": null,
            "align_items": null,
            "align_self": null,
            "border": null,
            "bottom": null,
            "display": null,
            "flex": null,
            "flex_flow": null,
            "grid_area": null,
            "grid_auto_columns": null,
            "grid_auto_flow": null,
            "grid_auto_rows": null,
            "grid_column": null,
            "grid_gap": null,
            "grid_row": null,
            "grid_template_areas": null,
            "grid_template_columns": null,
            "grid_template_rows": null,
            "height": null,
            "justify_content": null,
            "justify_items": null,
            "left": null,
            "margin": null,
            "max_height": null,
            "max_width": null,
            "min_height": null,
            "min_width": null,
            "object_fit": null,
            "object_position": null,
            "order": null,
            "overflow": null,
            "overflow_x": null,
            "overflow_y": null,
            "padding": null,
            "right": null,
            "top": null,
            "visibility": null,
            "width": null
          }
        },
        "c033720be7c0404ba5e8e9af9a91292c": {
          "model_module": "@jupyter-widgets/controls",
          "model_module_version": "1.5.0",
          "model_name": "FloatProgressModel",
          "state": {
            "_dom_classes": [],
            "_model_module": "@jupyter-widgets/controls",
            "_model_module_version": "1.5.0",
            "_model_name": "FloatProgressModel",
            "_view_count": null,
            "_view_module": "@jupyter-widgets/controls",
            "_view_module_version": "1.5.0",
            "_view_name": "ProgressView",
            "bar_style": "danger",
            "description": "",
            "description_tooltip": null,
            "layout": "IPY_MODEL_65266b2088124f069163231b36c5fd6e",
            "max": 30000,
            "min": 0,
            "orientation": "horizontal",
            "style": "IPY_MODEL_38d2bdd8f9d04b4b8fef1a8752a950a3",
            "value": 16
          }
        },
        "c0668561b2624bd784dffaf63ed399ec": {
          "model_module": "@jupyter-widgets/controls",
          "model_module_version": "1.5.0",
          "model_name": "DescriptionStyleModel",
          "state": {
            "_model_module": "@jupyter-widgets/controls",
            "_model_module_version": "1.5.0",
            "_model_name": "DescriptionStyleModel",
            "_view_count": null,
            "_view_module": "@jupyter-widgets/base",
            "_view_module_version": "1.2.0",
            "_view_name": "StyleView",
            "description_width": ""
          }
        },
        "e3ff854dfa624ccfb76c3fffc18f5b91": {
          "model_module": "@jupyter-widgets/controls",
          "model_module_version": "1.5.0",
          "model_name": "HTMLModel",
          "state": {
            "_dom_classes": [],
            "_model_module": "@jupyter-widgets/controls",
            "_model_module_version": "1.5.0",
            "_model_name": "HTMLModel",
            "_view_count": null,
            "_view_module": "@jupyter-widgets/controls",
            "_view_module_version": "1.5.0",
            "_view_name": "HTMLView",
            "description": "",
            "description_tooltip": null,
            "layout": "IPY_MODEL_61710b1c269f45e0a7f0394c8021b96c",
            "placeholder": "​",
            "style": "IPY_MODEL_3ae59530d8de42d38ec7e17579c313bd",
            "value": "MAPPING:   0%"
          }
        }
      }
    }
  },
  "nbformat": 4,
  "nbformat_minor": 5
}
