{
  "cells": [
    {
      "cell_type": "markdown",
      "id": "24ac0e40",
      "metadata": {},
      "source": [
        "# Configuration & Workflow\n",
        "\n",
        "- Configure base paths in the cells below (dataset root, weights path).\n",
        "- First, generate `data_map.json` by running the script in the dataset root:\n",
        "\n",
        "```bash\n",
        "python create_datamap.py\n",
        "```\n",
        "\n",
        "- Then run the cells to load the mapping and perform inference. Do not create the mapping inside this notebook.\n"
      ]
    },
    {
      "cell_type": "code",
      "execution_count": 3,
      "id": "7d4755e1",
      "metadata": {
        "colab": {
          "base_uri": "https://localhost:8080/"
        },
        "id": "7d4755e1",
        "outputId": "dd30a2e6-9cd4-46f4-bf78-641768dd583a"
      },
      "outputs": [
        {
          "ename": "ModuleNotFoundError",
          "evalue": "No module named 'google.colab'",
          "output_type": "error",
          "traceback": [
            "\u001b[1;31m---------------------------------------------------------------------------\u001b[0m",
            "\u001b[1;31mModuleNotFoundError\u001b[0m                       Traceback (most recent call last)",
            "Cell \u001b[1;32mIn[3], line 9\u001b[0m\n\u001b[0;32m      7\u001b[0m \u001b[38;5;28;01mimport\u001b[39;00m \u001b[38;5;21;01mnumpy\u001b[39;00m \u001b[38;5;28;01mas\u001b[39;00m \u001b[38;5;21;01mnp\u001b[39;00m\n\u001b[0;32m      8\u001b[0m \u001b[38;5;28;01mimport\u001b[39;00m \u001b[38;5;21;01margparse\u001b[39;00m\n\u001b[1;32m----> 9\u001b[0m \u001b[38;5;28;01mfrom\u001b[39;00m \u001b[38;5;21;01mgoogle\u001b[39;00m\u001b[38;5;21;01m.\u001b[39;00m\u001b[38;5;21;01mcolab\u001b[39;00m \u001b[38;5;28;01mimport\u001b[39;00m drive\n\u001b[0;32m     10\u001b[0m \u001b[38;5;28;01mfrom\u001b[39;00m \u001b[38;5;21;01mIPython\u001b[39;00m\u001b[38;5;21;01m.\u001b[39;00m\u001b[38;5;21;01mdisplay\u001b[39;00m \u001b[38;5;28;01mimport\u001b[39;00m display, Image\n\u001b[0;32m     11\u001b[0m \u001b[38;5;28;01mimport\u001b[39;00m \u001b[38;5;21;01mmatplotlib\u001b[39;00m\u001b[38;5;21;01m.\u001b[39;00m\u001b[38;5;21;01mpyplot\u001b[39;00m \u001b[38;5;28;01mas\u001b[39;00m \u001b[38;5;21;01mplt\u001b[39;00m\n",
            "\u001b[1;31mModuleNotFoundError\u001b[0m: No module named 'google.colab'"
          ]
        }
      ],
      "source": [
        "import os\n",
        "import zipfile\n",
        "from glob import glob\n",
        "from tqdm.notebook import tqdm\n",
        "import torch\n",
        "import cv2\n",
        "import numpy as np\n",
        "import argparse\n",
        "from google.colab import drive\n",
        "from IPython.display import display, Image\n",
        "import matplotlib.pyplot as plt\n",
        "from google.colab import files\n",
        "\n",
        "print(\"Import complete\")"
      ]
    },
    {
      "cell_type": "code",
      "execution_count": null,
      "id": "3d63405a",
      "metadata": {
        "colab": {
          "base_uri": "https://localhost:8080/"
        },
        "id": "3d63405a",
        "outputId": "3da10757-b735-4b84-d2fb-ddb6c41be3de"
      },
      "outputs": [
        {
          "name": "stdout",
          "output_type": "stream",
          "text": [
            "Mounted at /content/drive\n",
            "Google Drive mount complete\n"
          ]
        }
      ],
      "source": [
        "try:\n",
        "    drive.mount('/content/drive')\n",
        "    print(\"Google Drive mount complete\")\n",
        "except Exception as e:\n",
        "    print(f\"Google Drive mount error: {e}\")"
      ]
    },
    {
      "cell_type": "code",
      "execution_count": 6,
      "id": "7820a47d",
      "metadata": {
        "colab": {
          "base_uri": "https://localhost:8080/"
        },
        "id": "7820a47d",
        "outputId": "5db7314c-7fcb-42cb-818b-4c04d7d2d62c"
      },
      "outputs": [
        {
          "name": "stdout",
          "output_type": "stream",
          "text": [
            "\n",
            " Preparing dataset...\n"
          ]
        }
      ],
      "source": [
        "print(\"\\n Preparing dataset...\")\n",
        "dataset_zip_path = \"/content/drive/MyDrive/Datasets/celeba_mask_hq.zip\"\n",
        "base_dir = \"/content/\""
      ]
    },
    {
      "cell_type": "code",
      "execution_count": 7,
      "id": "59730313",
      "metadata": {
        "colab": {
          "base_uri": "https://localhost:8080/"
        },
        "id": "59730313",
        "outputId": "4f90c989-221c-4305-a630-f34db791306d"
      },
      "outputs": [
        {
          "name": "stdout",
          "output_type": "stream",
          "text": [
            " '/content/drive/MyDrive/Datasets/celeba_mask_hq.zip' Not Found\n"
          ]
        }
      ],
      "source": [
        "if os.path.exists(dataset_zip_path):\n",
        "        print(f\"Unzipping '{dataset_zip_path}'\")\n",
        "        with zipfile.ZipFile(dataset_zip_path, 'r') as zip_ref:\n",
        "            zip_ref.extractall(base_dir)\n",
        "        print(\"Unzipping complete.\")\n",
        "else:\n",
        "        print(f\" '{dataset_zip_path}' Not Found\")"
      ]
    },
    {
      "cell_type": "code",
      "execution_count": 11,
      "id": "b992c9e9",
      "metadata": {
        "id": "b992c9e9"
      },
      "outputs": [],
      "source": [
        "dataset_root = os.path.join(base_dir, \"CelebAMask-HQ\")\n",
        "img_dir = os.path.join(dataset_root, \"CelebA-HQ-img\")\n",
        "mask_base_dir = os.path.join(dataset_root, \"CelebAMask-HQ-mask-anno\")\n",
        "data_map_path = os.path.join(\"./data_map.json\")\n",
        "data_map = {}\n",
        "valid_ids = []"
      ]
    },
    {
      "cell_type": "code",
      "execution_count": 12,
      "id": "f03e01b8",
      "metadata": {
        "colab": {
          "base_uri": "https://localhost:8080/",
          "height": 470,
          "referenced_widgets": [
            "24847e4a575343728a47eb0b4e203cda",
            "e3ff854dfa624ccfb76c3fffc18f5b91",
            "c033720be7c0404ba5e8e9af9a91292c",
            "ae1d6b1dd2f2471a9a3599056f1f0d47",
            "a32b0c6ca9de4971b0e7acc192f87dd4",
            "61710b1c269f45e0a7f0394c8021b96c",
            "3ae59530d8de42d38ec7e17579c313bd",
            "65266b2088124f069163231b36c5fd6e",
            "38d2bdd8f9d04b4b8fef1a8752a950a3",
            "ba6c8ae9b7444160b504b30a19a87f5a",
            "c0668561b2624bd784dffaf63ed399ec"
          ]
        },
        "id": "f03e01b8",
        "outputId": "25ee23eb-206b-4d94-ff7f-54c80cb1709b"
      },
      "outputs": [
        {
          "name": "stdout",
          "output_type": "stream",
          "text": [
            "\n",
            "Expecting data_map.json created externally by create_datamap.py\n",
            "Found data_map.json; loading will happen in the next cell.\n"
          ]
        }
      ],
      "source": [
        "import json\n",
        "\n",
        "print(\"\\nExpecting data_map.json created externally by create_datamap.py\")\n",
        "if not os.path.exists(data_map_path):\n",
        "    print(f\"Data map file '{data_map_path}' not found. Please run create_datamap.py in the dataset root first.\")\n",
        "else:\n",
        "    print(\"Found data_map.json; loading will happen in the next cell.\")"
      ]
    },
    {
      "cell_type": "code",
      "execution_count": null,
      "id": "024edec6",
      "metadata": {},
      "outputs": [
        {
          "name": "stdout",
          "output_type": "stream",
          "text": [
            "\n",
            "Loading data map...\n",
            "Loaded 0 valid items from './data_map.json'\n",
            "   id=0  image_exists=False  mask_exists=False\n",
            "     image_path: \\content\\CelebAMask-HQ\\CelebA-HQ-img\\0.jpg\n",
            "     mask_path:  None\n",
            "   id=1  image_exists=False  mask_exists=False\n",
            "     image_path: \\content\\CelebAMask-HQ\\CelebA-HQ-img\\1.jpg\n",
            "     mask_path:  None\n",
            "   id=10  image_exists=False  mask_exists=False\n",
            "     image_path: \\content\\CelebAMask-HQ\\CelebA-HQ-img\\10.jpg\n",
            "     mask_path:  None\n"
          ]
        }
      ],
      "source": [
        "import os, json\n",
        "\n",
        "print(\"\\nLoading data map (fast mode)...\")\n",
        "\n",
        "# Fast load: keys -> int, no per-entry exists-checks\n",
        "with open(data_map_path, 'r', encoding='utf-8') as f:\n",
        "    loaded_map_str_keys = json.load(f)\n",
        "\n",
        "data_map = {int(k): v for k, v in loaded_map_str_keys.items()}\n",
        "\n",
        "# On-demand resolver for a single id (used by inference helpers)\n",
        "def resolve_paths_for_id(img_id: int):\n",
        "    rec = data_map.get(img_id)\n",
        "    if rec is None:\n",
        "        return None, None\n",
        "\n",
        "    def _norm(rel):\n",
        "        if not isinstance(rel, str) or not rel:\n",
        "            return None\n",
        "        rel = rel.replace(\"\\\\\", \"/\").lstrip(\"/\\\\\")\n",
        "        if rel.startswith(\"CelebAMask-HQ/\"):\n",
        "            rel = rel.split(\"/\", 1)[1]\n",
        "        return os.path.normpath(os.path.join(dataset_root, rel))\n",
        "\n",
        "    image_path = _norm(rec.get(\"image_path\"))\n",
        "    mask_path = None\n",
        "    mp = rec.get(\"mask_paths\")\n",
        "    if isinstance(mp, list) and mp:\n",
        "        mask_path = _norm(mp[0])\n",
        "    elif isinstance(rec.get(\"mask_path\"), str):\n",
        "        mask_path = _norm(rec[\"mask_path\"])\n",
        "    return image_path, mask_path\n",
        "\n",
        "print(\"Loaded map entries:\", len(data_map))\n",
        "print(\"Fast mode: no global os.path.exists or glob at load.\")\n"
      ]
    },
    {
      "cell_type": "code",
      "execution_count": null,
      "id": "c0104a80",
      "metadata": {},
      "outputs": [],
      "source": [
        "import random\n",
        "import os\n",
        "\n",
        "print(\"\\nVerify (sample-only, fast)...\")\n",
        "\n",
        "if data_map:\n",
        "    total = len(data_map)\n",
        "    sample_ids = random.sample(list(data_map.keys()), min(20, total))\n",
        "\n",
        "    missing = 0\n",
        "    for mid in sample_ids:\n",
        "        ip, mp = resolve_paths_for_id(mid)\n",
        "        iex = os.path.exists(ip) if ip else False\n",
        "        mex = os.path.exists(mp) if mp else False\n",
        "        print(f\"id={mid} image_exists={iex} mask_exists={mex}\")\n",
        "        if not (iex and mex):\n",
        "            missing += 1\n",
        "\n",
        "    print(f\"Sampled {len(sample_ids)}; missing in sample: {missing}\")\n",
        "else:\n",
        "    print(\"Data map is empty; skipping verification.\")\n"
      ]
    },
    {
      "cell_type": "code",
      "execution_count": null,
      "id": "9d9e36f5",
      "metadata": {
        "id": "9d9e36f5"
      },
      "outputs": [],
      "source": [
        "IMG_ROOT = img_dir\n",
        "MASK_ROOT = mask_base_dir"
      ]
    },
    {
      "cell_type": "code",
      "execution_count": null,
      "id": "Rfwz8rrH8cLw",
      "metadata": {
        "id": "Rfwz8rrH8cLw"
      },
      "outputs": [],
      "source": [
        "print(\"\\n\\n---\\n\\n\")\n",
        "print(\"📂 체크포인트 경로를 설정합니다...\")\n",
        "\n",
        "# Google Drive 내의 체크포인트 폴더 경로\n",
        "checkpoint_dir = '/content/drive/MyDrive/Datasets/weights'"
      ]
    },
    {
      "cell_type": "code",
      "execution_count": null,
      "id": "157aa6e7",
      "metadata": {
        "id": "157aa6e7"
      },
      "outputs": [],
      "source": [
        "if os.path.isdir(checkpoint_dir):\n",
        "    print(f\"체크포인트 디렉토리 확인: '{checkpoint_dir}'\")\n",
        "    # 필요한 파일들이 있는지 간단히 확인\n",
        "    required_files = [\"ftm_final.pth\", \"stylegan2-ffhq-config-f.pth\", \"injection_final.pth\", \"lcr_final.pth\"]\n",
        "    missing_files = [f for f in required_files if not os.path.exists(os.path.join(checkpoint_dir, f))]\n",
        "    if missing_files:\n",
        "        print(f\"[WARNING] following files do not exist: {missing_files}\")\n",
        "    else:\n",
        "        print(\"ALL CHECKPOINTS CONFIRMED\")\n",
        "else:\n",
        "    print(f\"Following filepath not found: '{checkpoint_dir}'.\")"
      ]
    },
    {
      "cell_type": "code",
      "execution_count": null,
      "id": "d0a3efdc",
      "metadata": {},
      "outputs": [],
      "source": [
        "# Deep weight load verification (non-destructive)\n",
        "import os\n",
        "import torch\n",
        "\n",
        "print(\"\\nVerifying all expected weights can be loaded...\")\n",
        "\n",
        "expected_files = {\n",
        "    \"ftm_final.pth\": {\"required_keys\": [\"e\", \"s\"]},\n",
        "    \"injection_final.pth\": {\"required_keys\": [\"e\", \"s\"]},\n",
        "    \"lcr_final.pth\": {\"required_keys\": [\"e\", \"s\"]},\n",
        "    \"stylegan2-ffhq-config-f.pth\": {\"required_keys\": [\"g_ema\"]},\n",
        "}\n",
        "\n",
        "if not os.path.isdir(checkpoint_dir):\n",
        "    print(f\"❌ checkpoint_dir not found: {checkpoint_dir}\")\n",
        "else:\n",
        "    for fname, spec in expected_files.items():\n",
        "        fpath = os.path.join(checkpoint_dir, fname)\n",
        "        if not os.path.exists(fpath):\n",
        "            print(f\"❌ MISSING: {fname}\")\n",
        "            continue\n",
        "        try:\n",
        "            ckpt = torch.load(fpath, map_location=torch.device(\"cpu\"))\n",
        "        except Exception as e:\n",
        "            print(f\"❌ LOAD FAIL: {fname} -> {e}\")\n",
        "            continue\n",
        "        missing_keys = [k for k in spec[\"required_keys\"] if k not in ckpt]\n",
        "        if missing_keys:\n",
        "            print(f\"⚠️ LOADED but missing keys in {fname}: {missing_keys}\")\n",
        "        else:\n",
        "            print(f\"✅ OK: {fname} (has {spec['required_keys']})\")\n",
        "        # free\n",
        "        del ckpt\n",
        "\n"
      ]
    },
    {
      "cell_type": "code",
      "execution_count": null,
      "id": "d13e6486",
      "metadata": {
        "id": "d13e6486"
      },
      "outputs": [],
      "source": [
        "SWAP_TYPE = \"ftm\" # ftm, injection, lcr"
      ]
    },
    {
      "cell_type": "code",
      "execution_count": null,
      "id": "413f753b",
      "metadata": {
        "id": "413f753b"
      },
      "outputs": [],
      "source": [
        "handler = None\n",
        "if 'MegaFS' in locals():\n",
        "    try:\n",
        "        handler = MegaFS(\n",
        "            swap_type=SWAP_TYPE,\n",
        "            img_root=IMG_ROOT,\n",
        "            mask_root=MASK_ROOT,\n",
        "            data_map=data_map, # 개선된 데이터 맵 전달\n",
        "            checkpoint_dir=checkpoint_dir # 체크포인트 경로 전달\n",
        "        )\n",
        "        print(f\"'{SWAP_TYPE}'-MegaFS model handler created.\")\n",
        "    except Exception as e:\n",
        "        print(f\"Error while generating handler: {e}\")\n",
        "        import traceback\n",
        "        traceback.print_exc()\n",
        "else:\n",
        "    print(\"MegaFS class failed to import. Check previous cells\")"
      ]
    },
    {
      "cell_type": "markdown",
      "id": "178f9584",
      "metadata": {
        "id": "178f9584"
      },
      "source": [
        "## Helper functions for inference"
      ]
    },
    {
      "cell_type": "code",
      "execution_count": null,
      "id": "120e49d3",
      "metadata": {},
      "outputs": [],
      "source": [
        "# Toggle to use reference implementation\n",
        "REF_MODE = True\n",
        "\n",
        "if REF_MODE:\n",
        "    import sys\n",
        "    sys.path.append('/content/ref_models')\n",
        "    try:\n",
        "        from ref_models.megafs import MegaFS as RefMegaFS\n",
        "        print(\"Reference MegaFS import complete\")\n",
        "    except Exception as e:\n",
        "        print(f\"Reference import failed: {e}\")\n"
      ]
    },
    {
      "cell_type": "code",
      "execution_count": null,
      "id": "9e1044d5",
      "metadata": {},
      "outputs": [],
      "source": [
        "# Initialize reference handler\n",
        "ref_handler = None\n",
        "if 'RefMegaFS' in locals():\n",
        "    try:\n",
        "        ref_handler = RefMegaFS(swap_type=SWAP_TYPE).cuda().eval()\n",
        "        print(f\"Reference handler ready for '{SWAP_TYPE}'\")\n",
        "    except Exception as e:\n",
        "        print(f\"Failed to init reference handler: {e}\")\n"
      ]
    },
    {
      "cell_type": "code",
      "execution_count": null,
      "id": "aece2f48",
      "metadata": {},
      "outputs": [],
      "source": [
        "# Helper for reference swap using existing data_map\n",
        "import numpy as np\n",
        "import cv2\n",
        "import torch\n",
        "\n",
        "def run_swap_ref(ref_model, src_id, tgt_id):\n",
        "    if not ref_model:\n",
        "        print(\"❌ 레퍼런스 모델이 초기화되지 않았습니다.\")\n",
        "        return\n",
        "    # resolve paths via existing resolver\n",
        "    src_img_path, _ = resolve_paths_for_id(src_id)\n",
        "    tgt_img_path, _ = resolve_paths_for_id(tgt_id)\n",
        "    if not (src_img_path and os.path.exists(src_img_path)):\n",
        "        print(f\"❌ 소스 이미지 없음: {src_img_path}\")\n",
        "        return\n",
        "    if not (tgt_img_path and os.path.exists(tgt_img_path)):\n",
        "        print(f\"❌ 타겟 이미지 없음: {tgt_img_path}\")\n",
        "        return\n",
        "    # load and preprocess to 256\n",
        "    src = cv2.cvtColor(cv2.imread(src_img_path), cv2.COLOR_BGR2RGB)\n",
        "    tgt = cv2.cvtColor(cv2.imread(tgt_img_path), cv2.COLOR_BGR2RGB)\n",
        "    src = cv2.resize(src, (256, 256))\n",
        "    tgt = cv2.resize(tgt, (256, 256))\n",
        "    ts = torch.from_numpy(src.transpose(2,0,1)).float().mul_(1/255.0)\n",
        "    tt = torch.from_numpy(tgt.transpose(2,0,1)).float().mul_(1/255.0)\n",
        "    ts = (ts - 0.5)/0.5\n",
        "    tt = (tt - 0.5)/0.5\n",
        "    with torch.no_grad():\n",
        "        out = ref_model(ts.unsqueeze(0).cuda(), tt.unsqueeze(0).cuda())\n",
        "        img = out[0].clamp(0,1).permute(1,2,0).cpu().numpy()\n",
        "        img_bgr = (img*255).astype(np.uint8)[:,:,::-1]\n",
        "        result = np.hstack((cv2.cvtColor(src, cv2.COLOR_RGB2BGR), cv2.cvtColor(tgt, cv2.COLOR_RGB2BGR), img_bgr))\n",
        "        out_name = f\"ref_swap_{src_id}_to_{tgt_id}.jpg\"\n",
        "        cv2.imwrite(f\"/content/{out_name}\", result)\n",
        "        print(f\"💾 레퍼런스 결과 저장: {out_name}\")\n"
      ]
    },
    {
      "cell_type": "code",
      "execution_count": null,
      "id": "81c8b377",
      "metadata": {
        "id": "81c8b377"
      },
      "outputs": [],
      "source": [
        "def run_swap(handler_instance, src_id, tgt_id, refine=True):\n",
        "    \"\"\"단일 이미지 쌍에 대해 스왑을 실행하고 결과를 표시합니다.\"\"\"\n",
        "    if not handler_instance:\n",
        "        print(\"❌ 핸들러가 초기화되지 않았습니다.\")\n",
        "        return\n",
        "\n",
        "    # On-demand resolve and existence checks\n",
        "    src_img, _ = resolve_paths_for_id(src_id)\n",
        "    tgt_img, tgt_mask = resolve_paths_for_id(tgt_id)\n",
        "    if not (src_img and os.path.exists(src_img)):\n",
        "        print(f\"❌ 소스 이미지가 없습니다: {src_img}\")\n",
        "        return\n",
        "    if not (tgt_img and os.path.exists(tgt_img)):\n",
        "        print(f\"❌ 타겟 이미지가 없습니다: {tgt_img}\")\n",
        "        return\n",
        "    #if not (tgt_mask and os.path.exists(tgt_mask)):\n",
        "    #    print(f\"❌ 타겟 마스크가 없습니다: {tgt_mask}\")\n",
        "    #    return\n",
        "\n",
        "    print(f\"\\n🔄 Source ID: {src_id}, Target ID: {tgt_id} 얼굴 교체를 시작합니다...\")\n",
        "    try:\n",
        "        handler_instance.data_map = data_map\n",
        "        result = handler_instance.run(src_id, tgt_id, refine)\n",
        "        save_path, result_image = (result if isinstance(result, tuple) else (None, result))\n",
        "\n",
        "        result_filename = f\"swap_result_{src_id}_to_{tgt_id}.jpg\"\n",
        "        cv2.imwrite(f\"/content/{result_filename}\", result_image)\n",
        "        print(f\"💾 결과가 '{result_filename}' 파일로 저장되었습니다.\")\n",
        "\n",
        "        img_disp = Image(f'/content/{result_filename}')\n",
        "        display(img_disp)\n",
        "\n",
        "    except Exception as e:\n",
        "        print(f\"❌ ID {src_id} 또는 {tgt_id} 처리 중 오류 발생: {e}\")\n",
        "        print(\"   - 데이터셋에 해당 ID가 존재하는지 확인해주세요.\")"
      ]
    },
    {
      "cell_type": "code",
      "execution_count": null,
      "id": "705e1c94",
      "metadata": {
        "id": "705e1c94"
      },
      "outputs": [],
      "source": [
        "def run_batch_swap(handler_instance, id_pairs, refine=True):\n",
        "    \"\"\"여러 이미지 쌍에 대해 배치 스왑을 실행하고 결과를 결합하여 표시합니다.\"\"\"\n",
        "    if not handler_instance:\n",
        "        print(\"❌ 핸들러가 초기화되지 않았습니다.\")\n",
        "        return\n",
        "\n",
        "    all_results = []\n",
        "    print(f\"\\n⚙️ 총 {len(id_pairs)}개의 쌍에 대한 배치 작업을 시작합니다...\")\n",
        "    for src_id, tgt_id in tqdm(id_pairs, desc=\"배치 처리\"):\n",
        "        # Resolve paths on-demand per pair\n",
        "        src_img, _ = resolve_paths_for_id(src_id)\n",
        "        tgt_img, tgt_mask = resolve_paths_for_id(tgt_id)\n",
        "        if not (src_img and os.path.exists(src_img) and tgt_img and os.path.exists(tgt_img) and tgt_mask and os.path.exists(tgt_mask)):\n",
        "            print(f\"⚠️ 건너뜀 (경로 누락): ({src_id}, {tgt_id})\")\n",
        "            continue\n",
        "        try:\n",
        "            result = handler_instance.run(src_id, tgt_id, refine)\n",
        "            # handler.run returns (save_path, result) or (None, result)\n",
        "            _, result_image = (result if isinstance(result, tuple) else (None, result))\n",
        "            all_results.append(result_image)\n",
        "        except Exception as e:\n",
        "            print(f\"❌ ID 쌍 ({src_id}, {tgt_id}) 처리 중 오류 발생: {e}\")\n",
        "            continue\n",
        "\n",
        "    if all_results:\n",
        "        final_image = cv2.vconcat(all_results)\n",
        "        result_filename = f\"batch_result_{len(id_pairs)}_pairs.jpg\"\n",
        "        cv2.imwrite(f\"/content/{result_filename}\", final_image)\n",
        "        print(f\"\\n💾 배치 결과가 '{result_filename}' 파일로 저장되었습니다.\")\n",
        "        height, width, _ = final_image.shape\n",
        "        scale = 800 / width\n",
        "        img_disp = Image(f'/content/{result_filename}', width=int(width*scale), height=int(height*scale))\n",
        "        display(img_disp)\n",
        "    else:\n",
        "        print(\"처리된 결과가 없습니다.\")"
      ]
    },
    {
      "cell_type": "markdown",
      "id": "52c1b23a",
      "metadata": {
        "id": "52c1b23a"
      },
      "source": [
        "# INFERENCE / TEST codes"
      ]
    },
    {
      "cell_type": "code",
      "execution_count": null,
      "id": "087f3970",
      "metadata": {},
      "outputs": [],
      "source": [
        "# Use reference model for single inference\n",
        "print(\"\\n\\n---\\n\\n\")\n",
        "print(\"🎨 [Reference] 단일 이미지 스왑을 실행합니다.\")\n",
        "\n",
        "# --- 여기서 소스와 타겟 ID를 변경하세요 ---\n",
        "SOURCE_ID = 2332\n",
        "TARGET_ID = 2107\n",
        "# -----------------------------------------\n",
        "\n",
        "if ref_handler:\n",
        "    run_swap_ref(ref_handler, SOURCE_ID, TARGET_ID)\n",
        "else:\n",
        "    print(\"⚠️ 레퍼런스 모델이 초기화되지 않았습니다.\")\n"
      ]
    },
    {
      "cell_type": "code",
      "execution_count": null,
      "id": "78c7052f",
      "metadata": {
        "id": "78c7052f"
      },
      "outputs": [],
      "source": [
        "print(\"\\n\\n---\\n\\n\")\n",
        "print(\"🎨 단일 이미지 스왑을 실행합니다.\")\n",
        "\n",
        "# --- 여기서 소스와 타겟 ID를 변경하세요 ---\n",
        "SOURCE_ID = 2332\n",
        "TARGET_ID = 2107\n",
        "# -----------------------------------------\n",
        "\n",
        "if handler:\n",
        "    run_swap(handler, SOURCE_ID, TARGET_ID, refine=True)\n",
        "else:\n",
        "    print(\"⚠️ 모델이 초기화되지 않았습니다. 이전 단계를 확인해주세요.\")"
      ]
    },
    {
      "cell_type": "code",
      "execution_count": null,
      "id": "3d0db8d4",
      "metadata": {
        "id": "3d0db8d4"
      },
      "outputs": [],
      "source": [
        "print(\"\\n\\n---\\n\\n\")\n",
        "print(\"🏭 배치 처리를 실행합니다.\")\n",
        "\n",
        "# --- 여기에 처리할 (소스, 타겟) ID 쌍 목록을 추가하세요 ---\n",
        "batch_pairs = [\n",
        "    (100, 200),\n",
        "    (300, 400),\n",
        "    (500, 600)\n",
        "    # 필요한 만큼 쌍을 추가하세요.\n",
        "]\n",
        "# ----------------------------------------------------\n",
        "\n",
        "if handler:\n",
        "    # 배치 쌍 유효성 검사\n",
        "    valid_pairs = []\n",
        "    for src, tgt in batch_pairs:\n",
        "        if src in valid_ids and tgt in valid_ids:\n",
        "            valid_pairs.append((src, tgt))\n",
        "        else:\n",
        "            print(f\"⚠️ ID 쌍 ({src}, {tgt})은(는) 유효하지 않아 건너뜁니다.\")\n",
        "\n",
        "    if valid_pairs:\n",
        "        run_batch_swap(handler, valid_pairs, refine=True)\n",
        "    else:\n",
        "        print(\"처리할 유효한 ID 쌍이 없습니다.\")\n",
        "else:\n",
        "    print(\"⚠️ 모델이 초기화되지 않았습니다. 이전 단계를 확인해주세요.\")"
      ]
    },
    {
      "cell_type": "code",
      "execution_count": null,
      "id": "26f99b13",
      "metadata": {
        "id": "26f99b13"
      },
      "outputs": [],
      "source": [
        "print(\"\\n\\n---\\n\\n\")\n",
        "print(\"📥 결과 파일 다운로드를 준비합니다.\")\n",
        "\n",
        "# 결과 파일들 찾기\n",
        "result_files = [f for f in os.listdir('/content/') if f.startswith((\"swap_result_\", \"batch_result_\")) and f.endswith(\".jpg\")]\n",
        "\n",
        "if result_files:\n",
        "    print(f\"📁 발견된 결과 파일: {len(result_files)}개\")\n",
        "    for file in result_files:\n",
        "        print(f\"  - {file}\")\n",
        "\n",
        "    print(\"\\n💾 파일을 다운로드하려면 아래 코드를 별도의 셀에서 실행하세요:\")\n",
        "    for file in result_files:\n",
        "        print(f\"files.download('/content/{file}')\")\n",
        "else:\n",
        "    print(\"❌ 다운로드할 결과 파일을 찾을 수 없습니다.\")"
      ]
    }
  ],
  "metadata": {
    "accelerator": "GPU",
    "colab": {
      "gpuType": "T4",
      "machine_shape": "hm",
      "provenance": []
    },
    "kernelspec": {
      "display_name": "base",
      "language": "python",
      "name": "python3"
    },
    "language_info": {
      "codemirror_mode": {
        "name": "ipython",
        "version": 3
      },
      "file_extension": ".py",
      "mimetype": "text/x-python",
      "name": "python",
      "nbconvert_exporter": "python",
      "pygments_lexer": "ipython3",
      "version": "3.12.3"
    },
    "widgets": {
      "application/vnd.jupyter.widget-state+json": {
        "24847e4a575343728a47eb0b4e203cda": {
          "model_module": "@jupyter-widgets/controls",
          "model_module_version": "1.5.0",
          "model_name": "HBoxModel",
          "state": {
            "_dom_classes": [],
            "_model_module": "@jupyter-widgets/controls",
            "_model_module_version": "1.5.0",
            "_model_name": "HBoxModel",
            "_view_count": null,
            "_view_module": "@jupyter-widgets/controls",
            "_view_module_version": "1.5.0",
            "_view_name": "HBoxView",
            "box_style": "",
            "children": [
              "IPY_MODEL_e3ff854dfa624ccfb76c3fffc18f5b91",
              "IPY_MODEL_c033720be7c0404ba5e8e9af9a91292c",
              "IPY_MODEL_ae1d6b1dd2f2471a9a3599056f1f0d47"
            ],
            "layout": "IPY_MODEL_a32b0c6ca9de4971b0e7acc192f87dd4"
          }
        },
        "38d2bdd8f9d04b4b8fef1a8752a950a3": {
          "model_module": "@jupyter-widgets/controls",
          "model_module_version": "1.5.0",
          "model_name": "ProgressStyleModel",
          "state": {
            "_model_module": "@jupyter-widgets/controls",
            "_model_module_version": "1.5.0",
            "_model_name": "ProgressStyleModel",
            "_view_count": null,
            "_view_module": "@jupyter-widgets/base",
            "_view_module_version": "1.2.0",
            "_view_name": "StyleView",
            "bar_color": null,
            "description_width": ""
          }
        },
        "3ae59530d8de42d38ec7e17579c313bd": {
          "model_module": "@jupyter-widgets/controls",
          "model_module_version": "1.5.0",
          "model_name": "DescriptionStyleModel",
          "state": {
            "_model_module": "@jupyter-widgets/controls",
            "_model_module_version": "1.5.0",
            "_model_name": "DescriptionStyleModel",
            "_view_count": null,
            "_view_module": "@jupyter-widgets/base",
            "_view_module_version": "1.2.0",
            "_view_name": "StyleView",
            "description_width": ""
          }
        },
        "61710b1c269f45e0a7f0394c8021b96c": {
          "model_module": "@jupyter-widgets/base",
          "model_module_version": "1.2.0",
          "model_name": "LayoutModel",
          "state": {
            "_model_module": "@jupyter-widgets/base",
            "_model_module_version": "1.2.0",
            "_model_name": "LayoutModel",
            "_view_count": null,
            "_view_module": "@jupyter-widgets/base",
            "_view_module_version": "1.2.0",
            "_view_name": "LayoutView",
            "align_content": null,
            "align_items": null,
            "align_self": null,
            "border": null,
            "bottom": null,
            "display": null,
            "flex": null,
            "flex_flow": null,
            "grid_area": null,
            "grid_auto_columns": null,
            "grid_auto_flow": null,
            "grid_auto_rows": null,
            "grid_column": null,
            "grid_gap": null,
            "grid_row": null,
            "grid_template_areas": null,
            "grid_template_columns": null,
            "grid_template_rows": null,
            "height": null,
            "justify_content": null,
            "justify_items": null,
            "left": null,
            "margin": null,
            "max_height": null,
            "max_width": null,
            "min_height": null,
            "min_width": null,
            "object_fit": null,
            "object_position": null,
            "order": null,
            "overflow": null,
            "overflow_x": null,
            "overflow_y": null,
            "padding": null,
            "right": null,
            "top": null,
            "visibility": null,
            "width": null
          }
        },
        "65266b2088124f069163231b36c5fd6e": {
          "model_module": "@jupyter-widgets/base",
          "model_module_version": "1.2.0",
          "model_name": "LayoutModel",
          "state": {
            "_model_module": "@jupyter-widgets/base",
            "_model_module_version": "1.2.0",
            "_model_name": "LayoutModel",
            "_view_count": null,
            "_view_module": "@jupyter-widgets/base",
            "_view_module_version": "1.2.0",
            "_view_name": "LayoutView",
            "align_content": null,
            "align_items": null,
            "align_self": null,
            "border": null,
            "bottom": null,
            "display": null,
            "flex": null,
            "flex_flow": null,
            "grid_area": null,
            "grid_auto_columns": null,
            "grid_auto_flow": null,
            "grid_auto_rows": null,
            "grid_column": null,
            "grid_gap": null,
            "grid_row": null,
            "grid_template_areas": null,
            "grid_template_columns": null,
            "grid_template_rows": null,
            "height": null,
            "justify_content": null,
            "justify_items": null,
            "left": null,
            "margin": null,
            "max_height": null,
            "max_width": null,
            "min_height": null,
            "min_width": null,
            "object_fit": null,
            "object_position": null,
            "order": null,
            "overflow": null,
            "overflow_x": null,
            "overflow_y": null,
            "padding": null,
            "right": null,
            "top": null,
            "visibility": null,
            "width": null
          }
        },
        "a32b0c6ca9de4971b0e7acc192f87dd4": {
          "model_module": "@jupyter-widgets/base",
          "model_module_version": "1.2.0",
          "model_name": "LayoutModel",
          "state": {
            "_model_module": "@jupyter-widgets/base",
            "_model_module_version": "1.2.0",
            "_model_name": "LayoutModel",
            "_view_count": null,
            "_view_module": "@jupyter-widgets/base",
            "_view_module_version": "1.2.0",
            "_view_name": "LayoutView",
            "align_content": null,
            "align_items": null,
            "align_self": null,
            "border": null,
            "bottom": null,
            "display": null,
            "flex": null,
            "flex_flow": null,
            "grid_area": null,
            "grid_auto_columns": null,
            "grid_auto_flow": null,
            "grid_auto_rows": null,
            "grid_column": null,
            "grid_gap": null,
            "grid_row": null,
            "grid_template_areas": null,
            "grid_template_columns": null,
            "grid_template_rows": null,
            "height": null,
            "justify_content": null,
            "justify_items": null,
            "left": null,
            "margin": null,
            "max_height": null,
            "max_width": null,
            "min_height": null,
            "min_width": null,
            "object_fit": null,
            "object_position": null,
            "order": null,
            "overflow": null,
            "overflow_x": null,
            "overflow_y": null,
            "padding": null,
            "right": null,
            "top": null,
            "visibility": null,
            "width": null
          }
        },
        "ae1d6b1dd2f2471a9a3599056f1f0d47": {
          "model_module": "@jupyter-widgets/controls",
          "model_module_version": "1.5.0",
          "model_name": "HTMLModel",
          "state": {
            "_dom_classes": [],
            "_model_module": "@jupyter-widgets/controls",
            "_model_module_version": "1.5.0",
            "_model_name": "HTMLModel",
            "_view_count": null,
            "_view_module": "@jupyter-widgets/controls",
            "_view_module_version": "1.5.0",
            "_view_name": "HTMLView",
            "description": "",
            "description_tooltip": null,
            "layout": "IPY_MODEL_ba6c8ae9b7444160b504b30a19a87f5a",
            "placeholder": "​",
            "style": "IPY_MODEL_c0668561b2624bd784dffaf63ed399ec",
            "value": " 16/30000 [00:04&lt;2:31:41,  3.29it/s]"
          }
        },
        "ba6c8ae9b7444160b504b30a19a87f5a": {
          "model_module": "@jupyter-widgets/base",
          "model_module_version": "1.2.0",
          "model_name": "LayoutModel",
          "state": {
            "_model_module": "@jupyter-widgets/base",
            "_model_module_version": "1.2.0",
            "_model_name": "LayoutModel",
            "_view_count": null,
            "_view_module": "@jupyter-widgets/base",
            "_view_module_version": "1.2.0",
            "_view_name": "LayoutView",
            "align_content": null,
            "align_items": null,
            "align_self": null,
            "border": null,
            "bottom": null,
            "display": null,
            "flex": null,
            "flex_flow": null,
            "grid_area": null,
            "grid_auto_columns": null,
            "grid_auto_flow": null,
            "grid_auto_rows": null,
            "grid_column": null,
            "grid_gap": null,
            "grid_row": null,
            "grid_template_areas": null,
            "grid_template_columns": null,
            "grid_template_rows": null,
            "height": null,
            "justify_content": null,
            "justify_items": null,
            "left": null,
            "margin": null,
            "max_height": null,
            "max_width": null,
            "min_height": null,
            "min_width": null,
            "object_fit": null,
            "object_position": null,
            "order": null,
            "overflow": null,
            "overflow_x": null,
            "overflow_y": null,
            "padding": null,
            "right": null,
            "top": null,
            "visibility": null,
            "width": null
          }
        },
        "c033720be7c0404ba5e8e9af9a91292c": {
          "model_module": "@jupyter-widgets/controls",
          "model_module_version": "1.5.0",
          "model_name": "FloatProgressModel",
          "state": {
            "_dom_classes": [],
            "_model_module": "@jupyter-widgets/controls",
            "_model_module_version": "1.5.0",
            "_model_name": "FloatProgressModel",
            "_view_count": null,
            "_view_module": "@jupyter-widgets/controls",
            "_view_module_version": "1.5.0",
            "_view_name": "ProgressView",
            "bar_style": "danger",
            "description": "",
            "description_tooltip": null,
            "layout": "IPY_MODEL_65266b2088124f069163231b36c5fd6e",
            "max": 30000,
            "min": 0,
            "orientation": "horizontal",
            "style": "IPY_MODEL_38d2bdd8f9d04b4b8fef1a8752a950a3",
            "value": 16
          }
        },
        "c0668561b2624bd784dffaf63ed399ec": {
          "model_module": "@jupyter-widgets/controls",
          "model_module_version": "1.5.0",
          "model_name": "DescriptionStyleModel",
          "state": {
            "_model_module": "@jupyter-widgets/controls",
            "_model_module_version": "1.5.0",
            "_model_name": "DescriptionStyleModel",
            "_view_count": null,
            "_view_module": "@jupyter-widgets/base",
            "_view_module_version": "1.2.0",
            "_view_name": "StyleView",
            "description_width": ""
          }
        },
        "e3ff854dfa624ccfb76c3fffc18f5b91": {
          "model_module": "@jupyter-widgets/controls",
          "model_module_version": "1.5.0",
          "model_name": "HTMLModel",
          "state": {
            "_dom_classes": [],
            "_model_module": "@jupyter-widgets/controls",
            "_model_module_version": "1.5.0",
            "_model_name": "HTMLModel",
            "_view_count": null,
            "_view_module": "@jupyter-widgets/controls",
            "_view_module_version": "1.5.0",
            "_view_name": "HTMLView",
            "description": "",
            "description_tooltip": null,
            "layout": "IPY_MODEL_61710b1c269f45e0a7f0394c8021b96c",
            "placeholder": "​",
            "style": "IPY_MODEL_3ae59530d8de42d38ec7e17579c313bd",
            "value": "MAPPING:   0%"
          }
        }
      }
    }
  },
  "nbformat": 4,
  "nbformat_minor": 5
}
